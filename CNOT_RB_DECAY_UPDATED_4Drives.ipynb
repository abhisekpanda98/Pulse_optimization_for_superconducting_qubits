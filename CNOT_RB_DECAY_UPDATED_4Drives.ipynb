{
 "cells": [
  {
   "cell_type": "code",
   "execution_count": 1,
   "metadata": {},
   "outputs": [],
   "source": [
    "import numpy as np\n",
    "from qutip import *\n",
    "import matplotlib as mpl\n",
    "import matplotlib.pyplot as plt\n",
    "plt.rcParams[\"font.family\"] = \"serif\"\n",
    "plt.rcParams[\"font.serif\"] = [\"Times New Roman\"]\n",
    "from scipy.special import log_softmax\n",
    "from scipy.special import softmax\n",
    "import statistics \n",
    "from numpy import diff\n",
    "import random\n",
    "from scipy.optimize import curve_fit\n",
    "import math\n",
    "from scipy.signal import find_peaks\n",
    "from scipy.integrate import odeint, solve_ivp, RK45\n",
    "from scipy.fft import fft, fftfreq, fftshift\n",
    "from tqdm import tqdm\n",
    "from qutip import Qobj, identity, sigmax, sigmay, sigmaz, tensor\n",
    "from qutip.qip.algorithms import qft\n",
    "import qutip.control.pulseoptim as cpo\n",
    "import qutip.control.pulsegen as pulsegen\n",
    "import math\n",
    "\n",
    "example_name = 'CNOT'"
   ]
  },
  {
   "cell_type": "code",
   "execution_count": 2,
   "metadata": {},
   "outputs": [
    {
     "data": {
      "text/plain": [
       "6"
      ]
     },
     "execution_count": 2,
     "metadata": {},
     "output_type": "execute_result"
    }
   ],
   "source": [
    "\n",
    "math.comb(4,2)"
   ]
  },
  {
   "cell_type": "code",
   "execution_count": 47,
   "metadata": {},
   "outputs": [],
   "source": [
    "cnot_data = np.loadtxt('F_0.9985547714508815_1amp_CNOT_n_ts_150_5_level_4_drive.txt')\n",
    "cnot_control_1 = cnot_data[:,1]\n",
    "cnot_control_2 = cnot_data[:,2]\n",
    "cnot_control_3 = cnot_data[:,3]\n",
    "cnot_control_4 = cnot_data[:,4]\n",
    "B = [cnot_control_1, cnot_control_2,cnot_control_3, cnot_control_4]"
   ]
  },
  {
   "cell_type": "code",
   "execution_count": 48,
   "metadata": {},
   "outputs": [],
   "source": [
    "# no. of levels for each transmon.\n",
    "N = 3\n",
    "\n",
    "# defines a_i.\n",
    "a_1 = tensor(destroy(N), qeye(N))\n",
    "a_2 = tensor(qeye(N), destroy(N))\n",
    "\n",
    "# defines a list of a_i's for all 2 qubits.\n",
    "a = [a_1, a_2]\n",
    "\n",
    "# defines the identity matrix\n",
    "identity_matrix = tensor(qeye(N), qeye(N))\n",
    "# defines the zero matrix\n",
    "zero_ = Qobj(np.zeros((N,N)))\n",
    "zero_matrix = tensor(zero_, zero_)"
   ]
  },
  {
   "cell_type": "code",
   "execution_count": 49,
   "metadata": {},
   "outputs": [],
   "source": [
    "# everything is in units of MHz\n",
    "f_1 = 5.03103*(10**3)\n",
    "f_2 = 4.92672*(10**3)\n",
    "delta_1 = -271\n",
    "delta_2 = -269\n",
    "f = [f_1, f_2]\n",
    "delta = [delta_1, delta_2]\n",
    "J = [[ 0.0, 4.03],[4.03, 0.0]]"
   ]
  },
  {
   "cell_type": "code",
   "execution_count": 51,
   "metadata": {},
   "outputs": [],
   "source": [
    "def Hamiltonian(f, delta, J, N):\n",
    "    \n",
    "    # defines the bare Hamiltonian\n",
    "    H_bare = zero_matrix\n",
    "    for i in range(2):\n",
    "        e = (f[i]-f[1])*(Qobj(a[i]).dag()*Qobj(a[i])) + 0.5*delta[i]*(Qobj(a[i]).dag()*Qobj(a[i]))*((Qobj(a[i]).dag()*Qobj(a[i])) - identity_matrix)\n",
    "        H_bare = H_bare + (2*np.pi)*e\n",
    "       \n",
    "    # defines the interaction Hamiltonian (the spins are labelled 0-5)\n",
    "    H_int = zero_matrix\n",
    "    for i in range(2):\n",
    "        # defines the interaction with the next neighbour on the right of the ith spin - which is the ((i+1) mod 6)-th spin..\n",
    "        p_neighbor_1 = (J[i][(i + 1)%2])*(Qobj(a[i]).dag()*Qobj(a[(i+1)%2]) + Qobj(a[i])*Qobj(a[(i+1)%2]).dag())\n",
    "        H_int = H_int + (2*np.pi)*0.5*(p_neighbor_1) #to prevent double counting, we need to multiply by 0.5.  \n",
    "    \n",
    "    #defines the full Hamiltonian\n",
    "    Ham = H_bare + H_int\n",
    "    return Ham\n",
    "\n",
    "H_d = Hamiltonian(f, delta, J, N)\n",
    "H_c = [ 26.5*(2*np.pi)*Qobj(a[0].dag() + a[0])/(2), 26.5*(2*np.pi)*Qobj(a[0].dag() - a[0])/(2*1j),\n",
    "        26.5*(2*np.pi)*Qobj(a[1].dag() + a[1])/(2), 26.5*(2*np.pi)*Qobj(a[1].dag() - a[1])/(2*1j)]"
   ]
  },
  {
   "cell_type": "code",
   "execution_count": 52,
   "metadata": {},
   "outputs": [],
   "source": [
    "Ham = Hamiltonian(f, delta, J, N)\n",
    "Ham\n",
    "Hc = [ 26.5*(2*np.pi)*Qobj(a[0].dag() + a[0])/(2), 26.5*(2*np.pi)*Qobj(a[0].dag() - a[0])/(2*1j),\n",
    "        26.5*(2*np.pi)*Qobj(a[1].dag() + a[1])/(2), 26.5*(2*np.pi)*Qobj(a[1].dag() - a[1])/(2*1j)]"
   ]
  },
  {
   "cell_type": "code",
   "execution_count": 53,
   "metadata": {},
   "outputs": [],
   "source": [
    "H_array = []\n",
    "steps = len(B[0])\n",
    "delta_t = 0.001\n",
    "\n",
    "for i in range(steps):\n",
    "    H_array.append(Ham + B[0][i]*Hc[0] + B[1][i]*Hc[1]+ B[2][i]*Hc[2] + B[3][i]*Hc[3]) #for now, the control is just (a + a_dagger) on the 0th qubit."
   ]
  },
  {
   "cell_type": "code",
   "execution_count": 54,
   "metadata": {},
   "outputs": [
    {
     "data": {
      "text/latex": [
       "Quantum object: dims=[[3, 3], [3, 3]], shape=(9, 9), type='oper', dtype=Dense, isherm=False$$\\left(\\begin{array}{cc}1.000 & -0.028j & (0.002+0.004j) & (-0.009-0.010j) & (-0.002-0.008j) & -0.002 & (0.016-0.016j) & (-0.015+0.010j) & 7.971\\times10^{ -5 }\\\\-0.028j & 0.998 & 0.006 & (-0.033+0.006j) & (0.024-0.004j) & 0.002 & (0.050-0.010j) & (0.031-0.012j) & 1.909\\times10^{ -4 }\\\\(-0.004-0.001j) & -0.005j & (0.154+0.988j) & 0.015 & (-0.002-0.014j) & (0.010-0.011j) & 2.031\\times10^{ -4 } & -3.623\\times10^{ -4 } & (0.005+0.024j)\\\\(0.002-0.008j) & (-0.026-0.003j) & 0.015 & (0.001+0.040j) & (0.999+0.012j) & 0.002j & 0.033 & (-0.003+0.002j) & -4.487\\times10^{ -6 }\\\\(0.009-0.011j) & (0.032+0.005j) & (-0.002-0.014j) & (0.999+0.009j) & (-0.002+0.041j) & (-0.004+0.007j) & (0.029-0.003j) & (-0.002+0.006j) & -2.628\\times10^{ -6 }\\\\-0.002 & (0.003-0.001j) & (-0.014+0.001j) & (0.002-0.008j) & (0.002-0.002j) & (-0.714-0.695j) & (-0.019-0.003j) & (-0.005+0.089j) & -0.002\\\\(0.021+0.007j) & (0.047+0.007j) & 2.198\\times10^{ -4 } & (0.029-0.002j) & (0.033-0.006j) & (0.003-0.005j) & (-0.957+0.190j) & (0.007-0.213j) & (-0.002-0.004j)\\\\(-0.018+0.002j) & (0.038+0.006j) & 0.001 & (-0.003+0.001j) & (0.002+0.005j) & (-0.019+0.089j) & (-0.140-0.159j) & (-0.858+0.459j) & -0.005\\\\-4.686\\times10^{ -5 } & -7.993\\times10^{ -5 } & (0.007+0.024j) & 1.564\\times10^{ -5 } & -2.482\\times10^{ -4 } & 0.002j & 0.004 & (0.003+0.005j) & (-0.354-0.936j)\\end{array}\\right)$$"
      ],
      "text/plain": [
       "Quantum object: dims=[[3, 3], [3, 3]], shape=(9, 9), type='oper', dtype=Dense, isherm=False\n",
       "Qobj data =\n",
       "[[ 1.00000000e+00+5.55111512e-17j  3.71716663e-05-2.81888654e-02j\n",
       "   1.70058344e-03+3.95497072e-03j -8.70967875e-03-1.02161787e-02j\n",
       "  -1.99487809e-03-8.17493286e-03j -2.00011632e-03+4.31240113e-04j\n",
       "   1.64052725e-02-1.57682803e-02j -1.53932214e-02+1.00959201e-02j\n",
       "   7.97113331e-05+9.41065817e-05j]\n",
       " [-6.16491381e-04-2.84004381e-02j  9.97801941e-01+9.80141710e-04j\n",
       "   6.05407103e-03+4.77394368e-04j -3.33888711e-02+5.64733239e-03j\n",
       "   2.36826074e-02-4.08803092e-03j  1.60513388e-03-5.85752274e-04j\n",
       "   4.99922036e-02-1.04640981e-02j  3.14638220e-02-1.20653227e-02j\n",
       "   1.90906469e-04+1.13863550e-04j]\n",
       " [-4.30844915e-03-1.21592814e-03j -9.55354116e-04-5.32214309e-03j\n",
       "   1.53927414e-01+9.88382844e-01j  1.53201035e-02+3.52702336e-04j\n",
       "  -2.44841574e-03-1.43600462e-02j  9.53403885e-03-1.09550756e-02j\n",
       "   2.03093066e-04-6.65927004e-04j -3.62280052e-04+4.05155557e-04j\n",
       "   5.37407096e-03+2.43691402e-02j]\n",
       " [ 1.78583643e-03-7.55061041e-03j -2.56704777e-02-3.47222287e-03j\n",
       "   1.50900969e-02+2.44256996e-04j  1.21556607e-03+4.04838323e-02j\n",
       "   9.99037952e-01+1.19240705e-02j -6.23832190e-04+2.40804870e-03j\n",
       "   3.29531927e-02+4.32022668e-04j -3.39042666e-03+1.67970417e-03j\n",
       "  -4.48731830e-06-1.07667813e-05j]\n",
       " [ 8.67593484e-03-1.12376882e-02j  3.19415524e-02+4.51336239e-03j\n",
       "  -2.31994249e-03-1.43414186e-02j  9.98870975e-01+8.93284514e-03j\n",
       "  -2.29280615e-03+4.07347639e-02j -4.37239400e-03+7.30684425e-03j\n",
       "   2.93461997e-02-2.90235567e-03j -1.85383071e-03+6.21010714e-03j\n",
       "  -2.62792316e-06-2.37351356e-04j]\n",
       " [-1.91560801e-03-2.81285661e-04j  3.02231335e-03-1.06624992e-03j\n",
       "  -1.44585600e-02+1.36040783e-03j  1.99055905e-03-7.60885386e-03j\n",
       "   2.30843970e-03-1.71247108e-03j -7.14495134e-01-6.94792473e-01j\n",
       "  -1.89643237e-02-2.60107306e-03j -4.73911605e-03+8.94169527e-02j\n",
       "  -2.42047950e-03+2.19178471e-05j]\n",
       " [ 2.14003979e-02+6.82986331e-03j  4.74638577e-02+6.73013645e-03j\n",
       "   2.19773575e-04+1.35601710e-04j  2.87316481e-02-1.84210760e-03j\n",
       "   3.32413005e-02-5.97860934e-03j  2.91599044e-03-4.73987211e-03j\n",
       "  -9.56857110e-01+1.89558464e-01j  7.47840718e-03-2.13399592e-01j\n",
       "  -2.33604580e-03-3.59519770e-03j]\n",
       " [-1.79530612e-02+2.36245844e-03j  3.79396133e-02+5.65498655e-03j\n",
       "   1.10692590e-03+5.44691952e-04j -2.81368019e-03+1.07460488e-03j\n",
       "   1.68948929e-03+5.36717826e-03j -1.92839454e-02+8.93407695e-02j\n",
       "  -1.39694331e-01-1.59499005e-01j -8.57926961e-01+4.59035176e-01j\n",
       "  -4.76803070e-03+8.46536271e-04j]\n",
       " [-4.68567007e-05+6.47326528e-05j -7.99337638e-05-2.54419319e-04j\n",
       "   7.37527218e-03+2.38666198e-02j  1.56381042e-05+2.31431532e-05j\n",
       "  -2.48200109e-04-3.75727599e-04j -3.57908090e-04+1.92501512e-03j\n",
       "   3.56405742e-03+9.20553695e-04j  2.93033967e-03+4.50415287e-03j\n",
       "  -3.54284358e-01-9.35808251e-01j]]"
      ]
     },
     "execution_count": 54,
     "metadata": {},
     "output_type": "execute_result"
    }
   ],
   "source": [
    "U_cnot = [(-1j*h*delta_t).expm() for h in H_array] # the unitary evolution operator for each time step.\n",
    "Total_Ucnot = identity_matrix # the total unitary evolution operator (U). It is initialised to the identity matrix.\n",
    "for i in range(steps):\n",
    "    Total_Ucnot = U_cnot[i]*Total_Ucnot # at each step, we multiply the total U with the unitary evolution operator for that time step.[Time-ordered product]\n",
    "Total_Ucnot/Total_Ucnot[0,0] # normalising the total unitary evolution operator."
   ]
  },
  {
   "cell_type": "code",
   "execution_count": 55,
   "metadata": {},
   "outputs": [],
   "source": [
    "# from qutip.qip.operations import swap,cnot\n",
    "# SWAP = swap().full()\n",
    "# SWAP = Qobj(SWAP)\n",
    "# CNOT = cnot().full()\n",
    "# CNOT = Qobj(CNOT)"
   ]
  },
  {
   "cell_type": "code",
   "execution_count": 56,
   "metadata": {},
   "outputs": [
    {
     "data": {
      "text/latex": [
       "Quantum object: dims=[[9], [9]], shape=(9, 9), type='oper', dtype=Dense, isherm=True$$\\left(\\begin{array}{cc}1 & 0 & 0 & 0 & 0 & 0 & 0 & 0 & 0\\\\0 & 0 & 0 & 1 & 0 & 0 & 0 & 0 & 0\\\\0 & 0 & 1 & 0 & 0 & 0 & 0 & 0 & 0\\\\0 & 1 & 0 & 0 & 0 & 0 & 0 & 0 & 0\\\\0 & 0 & 0 & 0 & 1 & 0 & 0 & 0 & 0\\\\0 & 0 & 0 & 0 & 0 & 1 & 0 & 0 & 0\\\\0 & 0 & 0 & 0 & 0 & 0 & 1 & 0 & 0\\\\0 & 0 & 0 & 0 & 0 & 0 & 0 & 1 & 0\\\\0 & 0 & 0 & 0 & 0 & 0 & 0 & 0 & 1\\end{array}\\right)$$"
      ],
      "text/plain": [
       "Quantum object: dims=[[9], [9]], shape=(9, 9), type='oper', dtype=Dense, isherm=True\n",
       "Qobj data =\n",
       "[[1. 0. 0. 0. 0. 0. 0. 0. 0.]\n",
       " [0. 0. 0. 1. 0. 0. 0. 0. 0.]\n",
       " [0. 0. 1. 0. 0. 0. 0. 0. 0.]\n",
       " [0. 1. 0. 0. 0. 0. 0. 0. 0.]\n",
       " [0. 0. 0. 0. 1. 0. 0. 0. 0.]\n",
       " [0. 0. 0. 0. 0. 1. 0. 0. 0.]\n",
       " [0. 0. 0. 0. 0. 0. 1. 0. 0.]\n",
       " [0. 0. 0. 0. 0. 0. 0. 1. 0.]\n",
       " [0. 0. 0. 0. 0. 0. 0. 0. 1.]]"
      ]
     },
     "execution_count": 56,
     "metadata": {},
     "output_type": "execute_result"
    }
   ],
   "source": [
    "CNOT = np.identity(N**2)\n",
    "CNOT[N][N] = 0\n",
    "CNOT[N+1][N+1] = 0\n",
    "CNOT[N][N+1] = 1\n",
    "CNOT[N+1][N] = 1\n",
    "CNOT = Qobj(CNOT)\n",
    "\n",
    "SWAP = np.identity(N**2)\n",
    "SWAP[1][N] = 1\n",
    "SWAP[N][N] = 0\n",
    "SWAP[1][1] = 0\n",
    "SWAP[N][1] = 1\n",
    "SWAP = Qobj(SWAP)\n",
    "\n",
    "SWAP"
   ]
  },
  {
   "cell_type": "code",
   "execution_count": 57,
   "metadata": {},
   "outputs": [
    {
     "data": {
      "text/plain": [
       "['mX90', 'Y90', 'mX90']"
      ]
     },
     "execution_count": 57,
     "metadata": {},
     "output_type": "execute_result"
    }
   ],
   "source": [
    "tim=[0.001,\n",
    "     0.104,\n",
    "     0.104,\n",
    "     0.208,\n",
    "     0.104,\n",
    "     0.104,\n",
    "     0.104,\n",
    "     0.104,\n",
    "     0.104,\n",
    "     0.104,\n",
    "     0.104,\n",
    "     0.104,\n",
    "     0.052,\n",
    "     0.052,\n",
    "     0.052,\n",
    "     0.052,\n",
    "     0.156,\n",
    "     0.156,\n",
    "     0.156,\n",
    "     0.156,\n",
    "     0.156,\n",
    "     0.156,\n",
    "     0.156,\n",
    "     0.156]\n",
    "\n",
    "cllist=[['I'],\n",
    "['X180'],\n",
    "['Y180'],\n",
    "['Y180','X180'],\n",
    "['X90','Y90'],\n",
    "['X90','mY90'],\n",
    "['mX90','Y90'],\n",
    "['mX90','mY90'],\n",
    "['Y90','X90'],\n",
    "['Y90','mX90'],\n",
    "['mY90','X90'],\n",
    "['mY90','mX90'],\n",
    "['X90'],\n",
    "['Y90'],\n",
    "['mY90'],\n",
    "['mX90'],\n",
    "['mX90','Y90','X90'],\n",
    "['mX90','mY90','X90'],\n",
    "['X180','Y90'],\n",
    "['X180','mY90'],\n",
    "['Y180','X90'],\n",
    "['Y180','mX90'],\n",
    "['X90','Y90','X90'],\n",
    "['mX90','Y90','mX90']]\n",
    "\n",
    "# cl1=[qeye(N**2),\n",
    "#      X180,\n",
    "#      Y180,\n",
    "#      Y180*X180,\n",
    "#      X90*Y90,\n",
    "#      X90*mY90,\n",
    "#      mX90*Y90,\n",
    "#      mX90*mY90,\n",
    "#      Y90*X90,\n",
    "#      Y90*mX90,\n",
    "#      mY90*X90,\n",
    "#      mY90*mX90,\n",
    "#      X90,\n",
    "#      Y90,\n",
    "#      mY90,\n",
    "#      mX90,\n",
    "#      mX90*Y90*X90,\n",
    "#      mX90*mY90*X90,\n",
    "#      X180*Y90,\n",
    "#      X180*mY90,\n",
    "#      Y180*X90,\n",
    "#      Y180*mX90,\n",
    "#      X90*Y90*X90,\n",
    "#      mX90*Y90*mX90]\n",
    "\n",
    "# cl2=[qeye(N**2),\n",
    "#      SWAP*X180*SWAP,\n",
    "#      SWAP*Y180*SWAP,\n",
    "#      SWAP*Y180*X180*SWAP,\n",
    "#      SWAP*X90*Y90*SWAP,\n",
    "#      SWAP*X90*mY90*SWAP,\n",
    "#      SWAP*mX90*Y90*SWAP,\n",
    "#      SWAP*mX90*mY90*SWAP,\n",
    "#      SWAP*Y90*X90*SWAP,\n",
    "#      SWAP*Y90*mX90*SWAP,\n",
    "#      SWAP*mY90*X90*SWAP,\n",
    "#      SWAP*mY90*mX90*SWAP,\n",
    "#      SWAP*X90*SWAP,\n",
    "#      SWAP*Y90*SWAP,\n",
    "#      SWAP*mY90*SWAP,\n",
    "#      SWAP*mX90*SWAP,\n",
    "#      SWAP*mX90*Y90*X90*SWAP,\n",
    "#      SWAP*mX90*mY90*X90*SWAP,\n",
    "#      SWAP*X180*Y90*SWAP,\n",
    "#      SWAP*X180*mY90*SWAP,\n",
    "#      SWAP*Y180*X90*SWAP,\n",
    "#      SWAP*Y180*mX90*SWAP,\n",
    "#      SWAP*X90*Y90*X90*SWAP,\n",
    "#      SWAP*mX90*Y90*mX90*SWAP]\n",
    "cllist[23]"
   ]
  },
  {
   "cell_type": "code",
   "execution_count": 58,
   "metadata": {},
   "outputs": [],
   "source": [
    "def Hamiltoniand(f, delta, J, N):\n",
    "    \n",
    "    # defines the bare Hamiltonian\n",
    "    H_bare = zero_matrix\n",
    "    for i in range(2):\n",
    "        e = (f[i]-f[i])*(Qobj(a[i]).dag()*Qobj(a[i])) + 0.5*delta[i]*(Qobj(a[i]).dag()*Qobj(a[i]))*((Qobj(a[i]).dag()*Qobj(a[i])) - identity_matrix)\n",
    "        H_bare = H_bare + (2*np.pi)*e\n",
    "       \n",
    "    # defines the interaction Hamiltonian (the spins are labelled 0-5)\n",
    "    H_int = zero_matrix\n",
    "    for i in range(2):\n",
    "        # defines the interaction with the next neighbour on the right of the ith spin - which is the ((i+1) mod 6)-th spin..\n",
    "        p_neighbor_1 = (J[i][(i + 1)%2])*(Qobj(a[i]).dag()*Qobj(a[(i+1)%2]) + Qobj(a[i])*Qobj(a[(i+1)%2]).dag())\n",
    "        H_int = H_int + 0*(2*np.pi)*0.5*(p_neighbor_1) #to prevent double counting, we need to multiply by 0.5.  \n",
    "    \n",
    "    #defines the full Hamiltonian\n",
    "    Ham = H_bare + H_int\n",
    "    return Ham\n",
    "\n",
    "H_dd = Hamiltoniand(f, delta, J, N)"
   ]
  },
  {
   "cell_type": "code",
   "execution_count": 59,
   "metadata": {},
   "outputs": [
    {
     "name": "stdout",
     "output_type": "stream",
     "text": [
      "[0.04204232188477656, 0.11428287960561416, 0.2779845853419365, 0.6050695690109885, 1.1785145967689838, 2.0540436957295434, 3.2035348129708674, 4.470892989177985, 5.583469652962478, 6.239633806927085, 6.3269, 6.3269, 6.3269, 6.3269, 6.3269, 6.3269, 6.3269, 6.3269, 6.3269, 6.3269, 6.3269, 6.3269, 6.3269, 6.3269, 6.3269, 6.3269, 6.3269, 6.3269, 6.3269, 6.3269, 6.3269, 6.3269, 6.3269, 6.3269, 6.3269, 6.3269, 6.3269, 6.3269, 6.3269, 6.3269, 6.3269, 6.3269, 6.239633806927085, 5.583469652962478, 4.470892989177985, 3.2035348129708674, 2.0540436957295434, 1.1785145967689838, 0.6050695690109885, 0.2779845853419365, 0.11428287960561416, 0.04204232188477656] 52\n"
     ]
    }
   ],
   "source": [
    "ggg50=((6.3269/0.1936)*np.array([0.0012864741843387347, 0.0034969993980696547, 0.008506190349491677, 0.018514828519579474, 0.036061961771874894, 0.06285271768057651, 0.09802657538307226, 0.13680710659325385, 0.17085140034037768, 0.1909296978016222, 0.1936, 0.1936, 0.1936, 0.1936, 0.1936, 0.1936, 0.1936, 0.1936, 0.1936, 0.1936, 0.1936, 0.1936, 0.1936, 0.1936, 0.1936, 0.1936, 0.1936, 0.1936, 0.1936, 0.1936, 0.1936, 0.1936, 0.1936, 0.1936, 0.1936, 0.1936, 0.1936, 0.1936, 0.1936, 0.1936, 0.1936, 0.1936, 0.1909296978016222, 0.17085140034037768, 0.13680710659325385, 0.09802657538307226, 0.06285271768057651, 0.036061961771874894, 0.018514828519579474, 0.008506190349491677, 0.0034969993980696547, 0.0012864741843387347])\n",
    "      ).tolist()\n",
    "print(ggg50,len(ggg50))"
   ]
  },
  {
   "cell_type": "code",
   "execution_count": 60,
   "metadata": {},
   "outputs": [
    {
     "name": "stdout",
     "output_type": "stream",
     "text": [
      "[0.0363060690550403, 0.09869012777509532, 0.24005637888699896, 0.5225138995848582, 1.017718109145653, 1.7737900505021866, 2.7664446425843274, 3.8608845165035337, 4.8216612617815455, 5.388298403054832, 5.463658, 5.463658, 5.463658, 5.463658, 5.463658, 5.463658, 5.463658, 5.463658, 5.463658, 5.463658, 5.463658, 5.463658, 5.463658, 5.463658, 5.463658, 5.463658, 5.463658, 5.463658, 5.463658, 5.463658, 5.463658, 5.463658, 5.463658, 5.463658, 5.463658, 5.463658, 5.463658, 5.463658, 5.463658, 5.463658, 5.463658, 5.463658, 5.463658, 5.463658, 5.463658, 5.463658, 5.463658, 5.463658, 5.463658, 5.463658, 5.463658, 5.463658, 5.463658, 5.463658, 5.463658, 5.463658, 5.463658, 5.463658, 5.463658, 5.463658, 5.463658, 5.463658, 5.463658, 5.463658, 5.463658, 5.463658, 5.463658, 5.463658, 5.463658, 5.463658, 5.463658, 5.463658, 5.463658, 5.463658, 5.463658, 5.463658, 5.463658, 5.463658, 5.463658, 5.463658, 5.463658, 5.463658, 5.463658, 5.463658, 5.463658, 5.463658, 5.463658, 5.463658, 5.463658, 5.463658, 5.463658, 5.463658, 5.463658, 5.463658, 5.388298403054832, 4.8216612617815455, 3.8608845165035337, 2.7664446425843274, 1.7737900505021866, 1.017718109145653, 0.5225138995848582, 0.24005637888699896, 0.09869012777509532, 0.0363060690550403] 104\n"
     ]
    }
   ],
   "source": [
    "ggg100=((5.463658/0.1936)*np.array([0.0012864741843387347, 0.0034969993980696547, 0.008506190349491677, 0.018514828519579474, 0.036061961771874894, 0.06285271768057651, 0.09802657538307226, 0.13680710659325385, 0.17085140034037768, 0.1909296978016222, 0.1936, 0.1936, 0.1936, 0.1936, 0.1936, 0.1936, 0.1936, 0.1936, 0.1936, 0.1936, 0.1936, 0.1936, 0.1936, 0.1936, 0.1936, 0.1936, 0.1936, 0.1936, 0.1936, 0.1936, 0.1936, 0.1936, 0.1936, 0.1936, 0.1936, 0.1936, 0.1936, 0.1936, 0.1936, 0.1936, 0.1936, 0.1936, 0.1936, 0.1936, 0.1936, 0.1936, 0.1936, 0.1936, 0.1936, 0.1936, 0.1936, 0.1936, 0.1936, 0.1936, 0.1936, 0.1936, 0.1936, 0.1936, 0.1936, 0.1936, 0.1936, 0.1936, 0.1936, 0.1936, 0.1936, 0.1936, 0.1936, 0.1936, 0.1936, 0.1936, 0.1936, 0.1936, 0.1936, 0.1936, 0.1936, 0.1936, 0.1936, 0.1936, 0.1936, 0.1936, 0.1936, 0.1936, 0.1936, 0.1936, 0.1936, 0.1936, 0.1936, 0.1936, 0.1936, 0.1936, 0.1936, 0.1936, 0.1936, 0.1936, 0.1909296978016222, 0.17085140034037768, 0.13680710659325385, 0.09802657538307226, 0.06285271768057651, 0.036061961771874894, 0.018514828519579474, 0.008506190349491677, 0.0034969993980696547, 0.0012864741843387347])\n",
    "       ).tolist()\n",
    "print(ggg100,len(ggg100))"
   ]
  },
  {
   "cell_type": "code",
   "execution_count": 61,
   "metadata": {},
   "outputs": [],
   "source": [
    "def gamma1(t):\n",
    "    return(1-np.exp(-t/T1_1))\n",
    "def gamma2(t):\n",
    "    return(1-np.exp(-t/T1_2))\n",
    "def lam1(t):\n",
    "    return(1-np.exp(-2*t/T2star_1))\n",
    "def lam2(t):\n",
    "    return(1-np.exp(-2*t/T2star_2))"
   ]
  },
  {
   "cell_type": "code",
   "execution_count": 62,
   "metadata": {},
   "outputs": [],
   "source": [
    "def AD(t):\n",
    "    AD1=[]\n",
    "    AD2=[]\n",
    "    for i in range(N):\n",
    "        sum1=Qobj(np.zeros([N,N]))\n",
    "        sum2=Qobj(np.zeros([N,N]))\n",
    "        for j in range(i,N):\n",
    "            sum1=sum1+np.sqrt(math.comb(j,i)*((1-gamma1(t))**(j-i))*gamma1(t)**i)*basis(N,j-i)*basis(N,j).dag()\n",
    "            sum2=sum2+np.sqrt(math.comb(j,i)*((1-gamma2(t))**(j-i))*gamma2(t)**i)*basis(N,j-i)*basis(N,j).dag()\n",
    "        AD1.append(tensor(sum1,qeye(N)))\n",
    "        AD2.append(tensor(qeye(N),sum2))\n",
    "    return([AD1,AD2])"
   ]
  },
  {
   "cell_type": "code",
   "execution_count": 63,
   "metadata": {},
   "outputs": [],
   "source": [
    "def PD(t):\n",
    "    PD1=[]\n",
    "    PD2=[]\n",
    "    som1=np.identity(N)\n",
    "    som1[1][1]=np.sqrt(1-lam1(t))\n",
    "    som1[2][2]=np.sqrt(1-lam1(4*t))\n",
    "    som2=np.identity(N)\n",
    "    som2[1][1]=np.sqrt(1-lam2(t))\n",
    "    som2[2][2]=np.sqrt(1-lam2(4*t))\n",
    "    PD1.append(tensor(Qobj(som1),qeye(N)))\n",
    "    PD2.append(tensor(qeye(N),Qobj(som2)))\n",
    "\n",
    "    som1=np.zeros([N,N])\n",
    "    som1[1][1]=np.sqrt(lam1(t))\n",
    "    som2=np.zeros([N,N])\n",
    "    som2[1][1]=np.sqrt(lam2(t))\n",
    "    PD1.append(tensor(Qobj(som1),qeye(N)))\n",
    "    PD2.append(tensor(qeye(N),Qobj(som2)))\n",
    "\n",
    "    som1=np.zeros([N,N])\n",
    "    som1[2][2]=np.sqrt(lam1(4*t))\n",
    "    som2=np.zeros([N,N])\n",
    "    som2[2][2]=np.sqrt(lam2(4*t))\n",
    "    PD1.append(tensor(Qobj(som1),qeye(N)))\n",
    "    PD2.append(tensor(qeye(N),Qobj(som2)))\n",
    "    return([PD1,PD2])"
   ]
  },
  {
   "cell_type": "code",
   "execution_count": 64,
   "metadata": {},
   "outputs": [],
   "source": [
    "# for i in range(111):\n",
    "#     c1=np.random.choice(cl1,1)[0]\n",
    "#     c2=np.random.choice(cl2,1)[0]\n",
    "#     E0=c1 * c2 * Ucnot *E0*(c1*c2 * Ucnot).dag()\n",
    "#     E0=Qobj(PD(0.3)[0][0].full())*E0*Qobj(((PD(0.3)[0][0]).dag()).full())+Qobj(PD(0.3)[0][1].full())*E0*Qobj(((PD(0.3)[0][1]).dag()).full())\n",
    "#     E0=Qobj(PD(0.3)[1][0].full())*E0*Qobj(((PD(0.3)[1][0]).dag()).full())+Qobj(PD(0.3)[1][1].full())*E0*Qobj(((PD(0.3)[1][1]).dag()).full())\n",
    "#     print(E0.tr())"
   ]
  },
  {
   "cell_type": "code",
   "execution_count": 65,
   "metadata": {},
   "outputs": [],
   "source": [
    "def MAP(rho,t):\n",
    "    A=AD(t)\n",
    "    P=PD(t)\n",
    "    for i in range(len(A)):\n",
    "        sum = Qobj(np.zeros([N**2,N**2]))\n",
    "        for j in range(len(A[i])):\n",
    "            sum = sum + Qobj(A[i][j].full())*rho*Qobj(((A[i][j]).dag()).full())\n",
    "        rho = sum\n",
    "    for i in range(len(P)):\n",
    "        sum = Qobj(np.zeros([N**2,N**2]))\n",
    "        for j in range(len(P[i])):\n",
    "            sum= sum + Qobj(P[i][j].full())*rho*Qobj(((P[i][j]).dag()).full())\n",
    "        rho = sum\n",
    "    #print(rho.tr())\n",
    "    return(rho)"
   ]
  },
  {
   "cell_type": "code",
   "execution_count": 66,
   "metadata": {},
   "outputs": [],
   "source": [
    "# everything is in units of MHz\n",
    "f_1 = 5.03103*(10**3)\n",
    "f_2 = 4.92672*(10**3)\n",
    "f_3 = 5.03648*(10**3)\n",
    "f_4 = 4.96961*(10**3)\n",
    "f_5 = 4.83780*(10**3)\n",
    "f_6 = 4.92466*(10**3)\n",
    "delta_1 = -271\n",
    "delta_2 = -269\n",
    "delta_3 = -268\n",
    "delta_4 = -269\n",
    "delta_5 = -280\n",
    "delta_6 = -271\n",
    "# all the times (T) are in microseconds. Therefore, 1/T would be in MHz. [NOT INCLUDED rn.]\n",
    "T1_1 = 44\n",
    "T1_2 = 30\n",
    "T1_3 = 25\n",
    "T1_4 = 37\n",
    "T1_5 = 1.6\n",
    "T1_6 = 57\n",
    "T2star_1 = 35\n",
    "T2star_2 = 21\n",
    "T2star_3 = 11\n",
    "T2star_4 = 28\n",
    "T2star_5 = 2.2\n",
    "T2star_6 = 26\n",
    "T2_1 = 40\n",
    "T2_2 = 42\n",
    "T2_3 = 27\n",
    "T2_4 = 30\n",
    "T2_5 = 2\n",
    "T2_6 = 28\n"
   ]
  },
  {
   "cell_type": "code",
   "execution_count": 67,
   "metadata": {},
   "outputs": [],
   "source": [
    "from scipy.linalg import expm\n",
    "def uni_evo(st,p1,p2,h1,h2,t):\n",
    "    ut=qeye(N**2)\n",
    "    for i in range(len(p1)):\n",
    "        u1=Qobj(expm(-0.001*1j*(H_dd.full()+p1[i]*h1[i].full()+p2[i]*h2[i].full())))\n",
    "        ut=u1*ut\n",
    "        st=MAP(u1*st*u1.dag(),0.001*t)\n",
    "    #print(ut)\n",
    "    return([st,ut])"
   ]
  },
  {
   "cell_type": "code",
   "execution_count": 68,
   "metadata": {},
   "outputs": [],
   "source": [
    "def make_pulse(n,m,t,sta):\n",
    "    l=int(max(tim[n],tim[m])*1000)\n",
    "    pul1=np.zeros(l)\n",
    "    pul2=np.zeros(l)\n",
    "    tpul1=[]\n",
    "    tpul2=[]\n",
    "    ham1=[]\n",
    "    ham2=[]\n",
    "    for i in cllist[n]:\n",
    "        if i=='I':\n",
    "            tpul1=tpul1+[1]\n",
    "            ham1=ham1+[(0)*Qobj(a[0].dag() + a[0])/2]\n",
    "        elif i=='X90':\n",
    "            tpul1=tpul1+ggg50\n",
    "            ham1=ham1+[(2*np.pi)*Qobj(a[0].dag() + a[0])/2]*len(ggg50)\n",
    "        elif i=='Y90':\n",
    "            tpul1=tpul1+ggg50\n",
    "            ham1=ham1+[(2*np.pi)*Qobj(-a[0].dag() + a[0])/(2*1j)]*len(ggg50)\n",
    "        elif i=='mX90':\n",
    "            tpul1=tpul1+ggg50\n",
    "            ham1=ham1+[(-2*np.pi)*Qobj(a[0].dag() + a[0])/2]*len(ggg50)\n",
    "        elif i=='mY90':\n",
    "            tpul1=tpul1+ggg50\n",
    "            ham1=ham1+[(-2*np.pi)*Qobj(-a[0].dag() + a[0])/(2*1j)]*len(ggg50)\n",
    "        elif i=='X180':\n",
    "            tpul1=tpul1+ggg100\n",
    "            ham1=ham1+[(2*np.pi)*Qobj(a[0].dag() + a[0])/2]*len(ggg100)\n",
    "        elif i=='Y180':\n",
    "            tpul1=tpul1+ggg100\n",
    "            ham1=ham1+[(2*np.pi)*Qobj(-a[0].dag() + a[0])/(2*1j)]*len(ggg100)\n",
    "        elif i=='mX180':\n",
    "            tpul1=tpul1+ggg100\n",
    "            ham1=ham1+[(-2*np.pi)*Qobj(a[0].dag() + a[0])/2]*len(ggg100)\n",
    "        elif i=='mY180':\n",
    "            tpul1=tpul1+ggg100\n",
    "            ham1=ham1+[(-2*np.pi)*Qobj(-a[0].dag() + a[0])/(2*1j)]*len(ggg100)\n",
    "    for i in cllist[m]:\n",
    "        if i=='I':\n",
    "            tpul2=tpul2+[1]\n",
    "            ham2=ham2+[(0)*Qobj(a[0].dag() + a[0])/2]\n",
    "        elif i=='X90':\n",
    "            tpul2=tpul2+ggg50\n",
    "            ham2=ham2+[(2*np.pi)*Qobj(a[1].dag() + a[1])/2]*len(ggg50)\n",
    "        elif i=='Y90':\n",
    "            tpul2=tpul2+ggg50\n",
    "            ham2=ham2+[(2*np.pi)*Qobj(-a[1].dag() + a[1])/(2*1j)]*len(ggg50)\n",
    "        elif i=='mX90':\n",
    "            tpul2=tpul2+ggg50\n",
    "            ham2=ham2+[(-2*np.pi)*Qobj(a[1].dag() + a[1])/2]*len(ggg50)\n",
    "        elif i=='mY90':\n",
    "            tpul2=tpul2+ggg50\n",
    "            ham2=ham2+[(-2*np.pi)*Qobj(-a[1].dag() + a[1])/(2*1j)]*len(ggg50)\n",
    "        elif i=='X180':\n",
    "            tpul2=tpul2+ggg100\n",
    "            ham2=ham2+[(2*np.pi)*Qobj(a[1].dag() + a[1])/2]*len(ggg100)\n",
    "        elif i=='Y180':\n",
    "            tpul2=tpul2+ggg100\n",
    "            ham2=ham2+[(2*np.pi)*Qobj(-a[1].dag() + a[1])/(2*1j)]*len(ggg100)\n",
    "        elif i=='mX180':\n",
    "            tpul2=tpul2+ggg100\n",
    "            ham2=ham2+[(-2*np.pi)*Qobj(a[1].dag() + a[1])/2]*len(ggg100)\n",
    "        elif i=='mY180':\n",
    "            tpul2=tpul2+ggg100\n",
    "            ham2=ham2+[(-2*np.pi)*Qobj(-a[1].dag() + a[1])/(2*1j)]*len(ggg100)\n",
    "    for i in range(len(tpul1)):\n",
    "        pul1[i]=tpul1[i]\n",
    "    for i in range(len(tpul2)):\n",
    "        pul2[i]=tpul2[i]\n",
    "    if len(ham1)<len(ham2):\n",
    "        ham1=ham1+[(0)*Qobj(-a[1].dag() + a[1])/(2*1j)]*(len(ham2)-len(ham1))\n",
    "    if len(ham2)<len(ham1):\n",
    "        ham2=ham2+[(0)*Qobj(-a[1].dag() + a[1])/(2*1j)]*(len(ham1)-len(ham2))\n",
    "    #print([pul1,pul2,ham1,ham2])\n",
    "    return([uni_evo(sta,pul1,pul2,ham1,ham2,t),pul1,pul2,ham1,ham2])"
   ]
  },
  {
   "cell_type": "code",
   "execution_count": 24,
   "metadata": {},
   "outputs": [
    {
     "data": {
      "text/latex": [
       "Quantum object: dims=[[9], [9]], shape=(9, 9), type='oper', dtype=Dense, isherm=True$$\\left(\\begin{array}{cc}8.459\\times10^{ -4 } & -9.419\\times10^{ -6 } & 5.334\\times10^{ -7 } & -0.005 & -0.005j & -3.321\\times10^{ -6 } & -5.569\\times10^{ -7 } & -3.079\\times10^{ -6 } & -1.611\\times10^{ -9 }\\\\-9.419\\times10^{ -6 } & 8.402\\times10^{ -4 } & 3.351\\times10^{ -7 } & 0.005j & -0.005 & -1.757\\times10^{ -6 } & 3.091\\times10^{ -6 } & -5.531\\times10^{ -7 } & 1.746\\times10^{ -9 }\\\\5.334\\times10^{ -7 } & 3.351\\times10^{ -7 } & 1.971\\times10^{ -9 } & -3.019\\times10^{ -6 } & -2.227\\times10^{ -6 } & -1.171\\times10^{ -8 } & 9.087\\times10^{ -10 } & -2.187\\times10^{ -9 } & -1.297\\times10^{ -12 }\\\\-0.005 & -0.005j & -3.019\\times10^{ -6 } & 0.501 & (-0.006+0.497j) & 3.158\\times10^{ -4 } & 7.618\\times10^{ -5 } & 3.000\\times10^{ -4 } & 1.709\\times10^{ -7 }\\\\0.005j & -0.005 & -2.227\\times10^{ -6 } & (-0.006-0.497j) & 0.497 & 1.984\\times10^{ -4 } & -3.017\\times10^{ -4 } & 7.566\\times10^{ -5 } & -1.616\\times10^{ -7 }\\\\-3.321\\times10^{ -6 } & -1.757\\times10^{ -6 } & -1.171\\times10^{ -8 } & 3.158\\times10^{ -4 } & 1.984\\times10^{ -4 } & 1.167\\times10^{ -6 } & -7.484\\times10^{ -8 } & 2.220\\times10^{ -7 } & 1.775\\times10^{ -10 }\\\\-5.569\\times10^{ -7 } & 3.091\\times10^{ -6 } & 9.087\\times10^{ -10 } & 7.618\\times10^{ -5 } & -3.017\\times10^{ -4 } & -7.484\\times10^{ -8 } & 1.497\\times10^{ -6 } & -1.666\\times10^{ -8 } & 9.437\\times10^{ -10 }\\\\-3.079\\times10^{ -6 } & -5.531\\times10^{ -7 } & -2.187\\times10^{ -9 } & 3.000\\times10^{ -4 } & 7.566\\times10^{ -5 } & 2.220\\times10^{ -7 } & -1.666\\times10^{ -8 } & 1.486\\times10^{ -6 } & 5.929\\times10^{ -10 }\\\\-1.611\\times10^{ -9 } & 1.746\\times10^{ -9 } & -1.297\\times10^{ -12 } & 1.709\\times10^{ -7 } & -1.616\\times10^{ -7 } & 1.775\\times10^{ -10 } & 9.437\\times10^{ -10 } & 5.929\\times10^{ -10 } & 3.487\\times10^{ -12 }\\end{array}\\right)$$"
      ],
      "text/plain": [
       "Quantum object: dims=[[9], [9]], shape=(9, 9), type='oper', dtype=Dense, isherm=True\n",
       "Qobj data =\n",
       "[[ 8.45940410e-04-1.51528652e-18j -9.41894315e-06+8.38913391e-04j\n",
       "   5.33357637e-07+3.42579843e-07j -5.02775456e-03+3.71901962e-04j\n",
       "  -3.12832203e-04-4.99013110e-03j -3.32056180e-06-1.80160517e-06j\n",
       "  -5.56924983e-07+3.11089722e-06j -3.07885480e-06-5.86936366e-07j\n",
       "  -1.61095375e-09+1.73585456e-09j]\n",
       " [-9.41894315e-06-8.38913391e-04j  8.40173045e-04-1.90146815e-18j\n",
       "   3.35112861e-07-5.34745741e-07j  4.24793125e-04+4.98184938e-03j\n",
       "  -4.99347685e-03+3.69366447e-04j -1.75661572e-06+3.32552912e-06j\n",
       "   3.09125672e-06+5.17661122e-07j -5.53128038e-07+3.08968807e-06j\n",
       "   1.74587512e-09+1.58440821e-09j]\n",
       " [ 5.33357637e-07-3.42579843e-07j  3.35112861e-07+5.34745741e-07j\n",
       "   1.97075814e-09+2.58508265e-20j -3.01934409e-06+2.27056669e-06j\n",
       "  -2.22679775e-06-3.03087685e-06j -1.17129861e-08+8.66407151e-10j\n",
       "   9.08681604e-10+2.18692953e-09j -2.18711831e-09+8.80308347e-10j\n",
       "  -1.29744889e-12+7.24734976e-12j]\n",
       " [-5.02775456e-03-3.71901962e-04j  4.24793125e-04-4.98184938e-03j\n",
       "  -3.01934409e-06-2.27056669e-06j  5.00862231e-01+5.68970691e-19j\n",
       "  -5.57674373e-03+4.96701691e-01j  3.15789023e-04+2.02833796e-04j\n",
       "   7.61754488e-05-3.03390019e-04j  3.00021674e-04+7.89207096e-05j\n",
       "   1.70891544e-07-1.60435900e-07j]\n",
       " [-3.12832203e-04+4.99013110e-03j -4.99347685e-03-3.69366447e-04j\n",
       "  -2.22679775e-06+3.03087685e-06j -5.57674373e-03-4.96701691e-01j\n",
       "   4.97447504e-01+2.45095141e-18j  1.98412764e-04-3.16610889e-04j\n",
       "  -3.01717993e-04-7.21646466e-05j  7.56561077e-05-3.01321598e-04j\n",
       "  -1.61606121e-07-1.68338564e-07j]\n",
       " [-3.32056180e-06+1.80160517e-06j -1.75661572e-06-3.32552912e-06j\n",
       "  -1.17129861e-08-8.66407151e-10j  3.15789023e-04-2.02833796e-04j\n",
       "   1.98412764e-04+3.16610889e-04j  1.16684143e-06-5.33583058e-20j\n",
       "  -7.48357062e-08-2.22133326e-07j  2.21958771e-07-7.20327340e-08j\n",
       "   1.77463311e-10-7.06797246e-10j]\n",
       " [-5.56924983e-07-3.11089722e-06j  3.09125672e-06-5.17661122e-07j\n",
       "   9.08681604e-10-2.18692953e-09j  7.61754488e-05+3.03390019e-04j\n",
       "  -3.01717993e-04+7.21646466e-05j -7.48357062e-08+2.22133326e-07j\n",
       "   1.49670073e-06+2.95170802e-19j -1.66646952e-08+1.48426801e-06j\n",
       "   9.43656026e-10+6.06117755e-10j]\n",
       " [-3.07885480e-06+5.86936366e-07j -5.53128038e-07-3.08968807e-06j\n",
       "  -2.18711831e-09-8.80308347e-10j  3.00021674e-04-7.89207096e-05j\n",
       "   7.56561077e-05+3.01321598e-04j  2.21958771e-07+7.20327340e-08j\n",
       "  -1.66646952e-08-1.48426801e-06j  1.48649668e-06-2.02874876e-19j\n",
       "   5.92906613e-10-9.46111963e-10j]\n",
       " [-1.61095375e-09-1.73585456e-09j  1.74587512e-09-1.58440821e-09j\n",
       "  -1.29744889e-12-7.24734976e-12j  1.70891544e-07+1.60435900e-07j\n",
       "  -1.61606121e-07+1.68338564e-07j  1.77463311e-10+7.06797246e-10j\n",
       "   9.43656026e-10-6.06117755e-10j  5.92906613e-10+9.46111963e-10j\n",
       "   3.48681198e-12-4.81057811e-24j]]"
      ]
     },
     "execution_count": 24,
     "metadata": {},
     "output_type": "execute_result"
    }
   ],
   "source": [
    "make_pulse(1,12,1,basis(N**2,0)*basis(N**2,0).dag())[0][0]"
   ]
  },
  {
   "cell_type": "code",
   "execution_count": 69,
   "metadata": {},
   "outputs": [],
   "source": [
    "def func_(x, a, b, c):\n",
    "    return a*(b**x) + c"
   ]
  },
  {
   "cell_type": "code",
   "execution_count": 80,
   "metadata": {},
   "outputs": [],
   "source": [
    "depths = [1]#, 15, 20, 25, 30, 35, 40, 45, 55, 65]\n",
    "E = basis(N**2,0)*basis(N**2,0).dag()\n",
    "E0= basis(N**2,0)*basis(N**2,0).dag()"
   ]
  },
  {
   "cell_type": "code",
   "execution_count": 82,
   "metadata": {},
   "outputs": [
    {
     "name": "stdout",
     "output_type": "stream",
     "text": [
      "(0.9981621511733929+2.2929265746822154e-18j)\n"
     ]
    }
   ],
   "source": [
    "E = basis(N**2,0)*basis(N**2,0).dag()\n",
    "E0= basis(N**2,0)*basis(N**2,0).dag()\n",
    "rb_survival_probs = []\n",
    "reps = 101\n",
    "DECSTR=1\n",
    "for d in depths:\n",
    "    rb_survival_p = 0\n",
    "    for repititions in range(reps):   \n",
    "        E = basis(N**2,0)*basis(N**2,0).dag()\n",
    "        seq_1=np.random.choice([0,1,2,3,4,5,6,7,8,9,10,11,12,13,14,15,16,17,18,19,20,21,22,23],d)\n",
    "        seq_2=np.random.choice([0,1,2,3,4,5,6,7,8,9,10,11,12,13,14,15,16,17,18,19,20,21,22,23],d)\n",
    "        IRB = Qobj(identity_matrix.full())\n",
    "        IRB_ideal = Qobj(identity_matrix.full())\n",
    "        Ucnot = Qobj(Total_Ucnot.full())\n",
    "        for i in range(len(seq_1)):\n",
    "            t = max(tim[seq_1[i]],tim[seq_2[i]])\n",
    "            MP = make_pulse(seq_1[i],0,DECSTR,E)#MAP(cl1[seq_1[i]] *E*(cl1[seq_1[i]] ).dag(),t)\n",
    "            E=MP[0][0]\n",
    "            IRB_ideal = MP[0][1]*IRB_ideal#cl1[seq_1[i]]  * IRB_ideal\n",
    "            \n",
    "        IRB_ideal_inverse = Qobj(np.linalg.inv(IRB_ideal.full()))\n",
    "        E = IRB_ideal_inverse *E*(IRB_ideal_inverse).dag()\n",
    "        #IRB =  IRB_ideal_inverse*IRB \n",
    "        rb_survival_p += (E * E0).tr()\n",
    "    rb_survival_probs.append(rb_survival_p/reps)\n",
    "    print(rb_survival_p/reps)"
   ]
  },
  {
   "cell_type": "code",
   "execution_count": 83,
   "metadata": {},
   "outputs": [],
   "source": [
    "# depthss = np.linspace(1, 65, 1000)\n",
    "# rb_popt, rb_pcov = curve_fit(func_, depths, np.real(rb_survival_probs),  maxfev=5000)\n",
    "# a_rb, b_rb, c_rb = rb_popt\n",
    "# rb_probs_ = func_(depthss, a_rb, b_rb, c_rb)\n",
    "# print(\"RB\", a_rb, b_rb, c_rb)"
   ]
  },
  {
   "cell_type": "code",
   "execution_count": 84,
   "metadata": {},
   "outputs": [],
   "source": [
    "def CNP(st,t):\n",
    "    for i in range(len(cnot_control_1)):\n",
    "        u1=Qobj(expm(-0.001*1j*(H_d.full()+cnot_control_1[i]*H_c[0].full()+cnot_control_2[i]*H_c[1].full()\n",
    "                                +cnot_control_3[i]*H_c[2].full()+cnot_control_4[i]*H_c[3].full())))\n",
    "        st=MAP(u1*st*u1.dag(),0.001*t)\n",
    "    return(st)"
   ]
  },
  {
   "cell_type": "code",
   "execution_count": 85,
   "metadata": {},
   "outputs": [
    {
     "name": "stdout",
     "output_type": "stream",
     "text": [
      "(0.9830365142783608-2.414765135649646e-17j)\n"
     ]
    }
   ],
   "source": [
    "E = basis(N**2,0)*basis(N**2,0).dag()\n",
    "E0= basis(N**2,0)*basis(N**2,0).dag()\n",
    "survival_probs = []\n",
    "DECSTR=1\n",
    "reps = 101\n",
    "for d in depths:\n",
    "    survival_p = 0\n",
    "    for repititions in range(reps):   \n",
    "        E = basis(N**2,0)*basis(N**2,0).dag()\n",
    "        seq_1=np.random.choice([0,1,2,3,4,5,6,7,8,9,10,11,12,13,14,15,16,17,18,19,20,21,22,23],d)\n",
    "        seq_2=np.random.choice([0,1,2,3,4,5,6,7,8,9,10,11,12,13,14,15,16,17,18,19,20,21,22,23],d)\n",
    "        IRB = Qobj(identity_matrix.full())\n",
    "        IRB_ideal = Qobj(identity_matrix.full())\n",
    "        Ucnot = Qobj(Total_Ucnot.full())\n",
    "        for i in range(len(seq_1)):\n",
    "            #t = max(tim[seq_1[i]],tim[seq_2[i]])\n",
    "            MP = make_pulse(seq_1[i],seq_2[i],DECSTR,E)\n",
    "            E = CNP(MP[0][0],DECSTR)#MAP( Ucnot *MP[0][0]*Ucnot.dag(),0.250)\n",
    "            #IRB = seq_1[i] * seq_2[i] * Ucnot * IRB\n",
    "            IRB_ideal = CNOT *MP[0][1] *  IRB_ideal\n",
    "            \n",
    "        IRB_ideal_inverse = Qobj(np.linalg.inv(IRB_ideal.full()))\n",
    "        E = MAP(IRB_ideal_inverse *E*(IRB_ideal_inverse).dag(),0.28*0)\n",
    "        #IRB =  IRB_ideal_inverse*IRB \n",
    "        survival_p += (E * E0).tr()\n",
    "    survival_probs.append(survival_p/reps)\n",
    "    print(survival_p/reps)"
   ]
  },
  {
   "cell_type": "code",
   "execution_count": null,
   "metadata": {},
   "outputs": [],
   "source": []
  },
  {
   "cell_type": "code",
   "execution_count": 28,
   "metadata": {},
   "outputs": [],
   "source": [
    "# popt, pcov = curve_fit(func_, depths, np.real(survival_probs),  maxfev=5000)\n",
    "# a, b, c = popt\n",
    "# probs_ = func_(depthss, a, b, c)"
   ]
  },
  {
   "cell_type": "code",
   "execution_count": 29,
   "metadata": {},
   "outputs": [
    {
     "name": "stdout",
     "output_type": "stream",
     "text": [
      "IRB 0.5530675143825013 0.9590707387536473 0.4499396069148105\n",
      "RB 0.5835141970829227 0.9959323012162384 0.41673488399606684\n"
     ]
    },
    {
     "data": {
      "text/plain": [
       "<matplotlib.legend.Legend at 0x1c922350450>"
      ]
     },
     "execution_count": 29,
     "metadata": {},
     "output_type": "execute_result"
    },
    {
     "data": {
      "image/png": "[encoded data removed]",
      "text/plain": [
       "<Figure size 640x480 with 1 Axes>"
      ]
     },
     "metadata": {},
     "output_type": "display_data"
    }
   ],
   "source": [
    "\n",
    "plt.plot(depths, 500*(np.real(survival_probs)), label='IRB')\n",
    "plt.plot(depthss, 500*(probs_), 'b--', linewidth=1.0, label='IRB')\n",
    "plt.plot(depths, 500*(np.real(rb_survival_probs)), label='RB')\n",
    "plt.plot(depthss, 500*(rb_probs_), 'k--', linewidth=1.0, label='RB')\n",
    "print(\"IRB\", a, b, c)\n",
    "print(\"RB\", a_rb, b_rb, c_rb)\n",
    "plt.legend()"
   ]
  },
  {
   "cell_type": "code",
   "execution_count": 79,
   "metadata": {},
   "outputs": [
    {
     "data": {
      "text/plain": [
       "0.9842300729642998"
      ]
     },
     "execution_count": 79,
     "metadata": {},
     "output_type": "execute_result"
    }
   ],
   "source": [
    "\n",
    "dim = N**2\n",
    "r_ext = (dim - 1)*(1 - 0.98062288/0.9983345)/dim\n",
    "1 - r_ext ##average gate fidelity."
   ]
  },
  {
   "cell_type": "code",
   "execution_count": null,
   "metadata": {},
   "outputs": [],
   "source": [
    "p = b_rb\n",
    "pC_ = b\n",
    "dim = N**2\n",
    "r_ext = (dim - 1)*(1 - pC_/p)/dim\n",
    "1 - r_ext ##average gate fidelity."
   ]
  },
  {
   "cell_type": "code",
   "execution_count": 86,
   "metadata": {},
   "outputs": [
    {
     "data": {
      "text/plain": [
       "[<matplotlib.lines.Line2D at 0x1f73452fd10>]"
      ]
     },
     "execution_count": 86,
     "metadata": {},
     "output_type": "execute_result"
    },
    {
     "data": {
      "image/png": "[encoded data removed]",
      "text/plain": [
       "<Figure size 640x480 with 1 Axes>"
      ]
     },
     "metadata": {},
     "output_type": "display_data"
    }
   ],
   "source": [
    "plt.plot(cnot_control_1)\n",
    "plt.plot(cnot_control_2)\n",
    "plt.plot(cnot_control_3)\n",
    "plt.plot(cnot_control_4)"
   ]
  },
  {
   "cell_type": "code",
   "execution_count": null,
   "metadata": {},
   "outputs": [],
   "source": []
  },
  {
   "cell_type": "code",
   "execution_count": null,
   "metadata": {},
   "outputs": [],
   "source": []
  },
  {
   "cell_type": "code",
   "execution_count": null,
   "metadata": {},
   "outputs": [],
   "source": []
  },
  {
   "cell_type": "code",
   "execution_count": null,
   "metadata": {},
   "outputs": [],
   "source": []
  },
  {
   "cell_type": "code",
   "execution_count": null,
   "metadata": {},
   "outputs": [],
   "source": []
  },
  {
   "cell_type": "code",
   "execution_count": null,
   "metadata": {},
   "outputs": [],
   "source": []
  },
  {
   "cell_type": "code",
   "execution_count": null,
   "metadata": {},
   "outputs": [],
   "source": []
  },
  {
   "cell_type": "code",
   "execution_count": 87,
   "metadata": {},
   "outputs": [
    {
     "data": {
      "text/plain": [
       "'\\nZX90 is operated by doing the following pulses in sequence\\n\\nZX45 on Control (Q1) at Target (Q2) frequency\\nX180 on Control (Q1) at Control (Q1) frequency\\n-ZX45 on Control (Q1) at Target (Q2) frequency\\n\\nThis \"echoed\" ZX90 allows us to mitigate errors\\n'"
      ]
     },
     "execution_count": 87,
     "metadata": {},
     "output_type": "execute_result"
    }
   ],
   "source": [
    "from scipy.signal.windows import gaussian\n",
    "import numpy as np\n",
    "\n",
    "def grft_pulse(pi_len_ns, pi_rise_ns):\n",
    "    risefall = [float(arg) for arg in gaussian(2 * pi_rise_ns, 2 * pi_rise_ns // 6)]\n",
    "    pulse = []\n",
    "    for i in range(pi_len_ns):\n",
    "        if i < pi_rise_ns:\n",
    "            pulse.append(risefall[i])\n",
    "\n",
    "        elif i >= pi_len_ns - pi_rise_ns:\n",
    "            pulse.append(risefall[i - pi_len_ns + 2 * pi_rise_ns])\n",
    "            \n",
    "        else:\n",
    "            pulse.append(1)\n",
    "\n",
    "    return np.array(pulse)\n",
    "\n",
    "def grft_arr_gen(arguments,scales=[1]):\n",
    "    scaling = np.prod(scales)*0.4\n",
    "    slist = [float(arg) for arg in scaling * grft_pulse(*arguments)]\n",
    "    return slist\n",
    "\n",
    "# total length is 288 ns, 16 ns for rise and fall time each and 256 ns flat top\n",
    "# amplitude prefactor of 0.5, so effective max voltage is 0.5 * 0.4 = 0.2\n",
    "ZX45_wave = grft_arr_gen((256 + 32, 16), [0.5])\n",
    "EchoX180_wave = grft_arr_gen((52, 10), [0.484])\n",
    "# For conversion to MHz, please multiply generated values (the _wave arrays) by 26.5 MHz / 0.4 V\n",
    "\n",
    "'''\n",
    "ZX90 is operated by doing the following pulses in sequence\n",
    "\n",
    "ZX45 on Control (Q1) at Target (Q2) frequency\n",
    "X180 on Control (Q1) at Control (Q1) frequency\n",
    "-ZX45 on Control (Q1) at Target (Q2) frequency\n",
    "\n",
    "This \"echoed\" ZX90 allows us to mitigate errors\n",
    "'''"
   ]
  },
  {
   "cell_type": "code",
   "execution_count": 90,
   "metadata": {},
   "outputs": [
    {
     "data": {
      "text/plain": [
       "[<matplotlib.lines.Line2D at 0x1f7345f1f50>]"
      ]
     },
     "execution_count": 90,
     "metadata": {},
     "output_type": "execute_result"
    },
    {
     "data": {
      "image/png": "[encoded data removed]",
      "text/plain": [
       "<Figure size 640x480 with 1 Axes>"
      ]
     },
     "metadata": {},
     "output_type": "display_data"
    }
   ],
   "source": [
    "plt.plot(ZX45_wave)"
   ]
  },
  {
   "cell_type": "code",
   "execution_count": 95,
   "metadata": {},
   "outputs": [
    {
     "data": {
      "text/plain": [
       "[<matplotlib.lines.Line2D at 0x1f734ce16d0>]"
      ]
     },
     "execution_count": 95,
     "metadata": {},
     "output_type": "execute_result"
    },
    {
     "data": {
      "image/png": "[encoded data removed]",
      "text/plain": [
       "<Figure size 640x480 with 1 Axes>"
      ]
     },
     "metadata": {},
     "output_type": "display_data"
    }
   ],
   "source": [
    "plt.plot(EchoX180_wave)\n",
    "plt.plot((1/(6.3269/0.1936))*np.array(ggg50))"
   ]
  },
  {
   "cell_type": "code",
   "execution_count": 96,
   "metadata": {},
   "outputs": [
    {
     "data": {
      "text/plain": [
       "array([0.00128647, 0.003497  , 0.00850619, 0.01851483, 0.03606196,\n",
       "       0.06285272, 0.09802658, 0.13680711, 0.1708514 , 0.1909297 ,\n",
       "       0.1936    , 0.1936    , 0.1936    , 0.1936    , 0.1936    ,\n",
       "       0.1936    , 0.1936    , 0.1936    , 0.1936    , 0.1936    ,\n",
       "       0.1936    , 0.1936    , 0.1936    , 0.1936    , 0.1936    ,\n",
       "       0.1936    , 0.1936    , 0.1936    , 0.1936    , 0.1936    ,\n",
       "       0.1936    , 0.1936    , 0.1936    , 0.1936    , 0.1936    ,\n",
       "       0.1936    , 0.1936    , 0.1936    , 0.1936    , 0.1936    ,\n",
       "       0.1936    , 0.1936    , 0.1909297 , 0.1708514 , 0.13680711,\n",
       "       0.09802658, 0.06285272, 0.03606196, 0.01851483, 0.00850619,\n",
       "       0.003497  , 0.00128647])"
      ]
     },
     "execution_count": 96,
     "metadata": {},
     "output_type": "execute_result"
    }
   ],
   "source": [
    "(1/(6.3269/0.1936))*np.array(ggg50)"
   ]
  },
  {
   "cell_type": "code",
   "execution_count": 98,
   "metadata": {},
   "outputs": [
    {
     "data": {
      "text/plain": [
       "array([0.00128647, 0.003497  , 0.00850619, 0.01851483, 0.03606196,\n",
       "       0.06285272, 0.09802658, 0.13680711, 0.1708514 , 0.1909297 ,\n",
       "       0.1936    , 0.1936    , 0.1936    , 0.1936    , 0.1936    ,\n",
       "       0.1936    , 0.1936    , 0.1936    , 0.1936    , 0.1936    ,\n",
       "       0.1936    , 0.1936    , 0.1936    , 0.1936    , 0.1936    ,\n",
       "       0.1936    , 0.1936    , 0.1936    , 0.1936    , 0.1936    ,\n",
       "       0.1936    , 0.1936    , 0.1936    , 0.1936    , 0.1936    ,\n",
       "       0.1936    , 0.1936    , 0.1936    , 0.1936    , 0.1936    ,\n",
       "       0.1936    , 0.1936    , 0.1909297 , 0.1708514 , 0.13680711,\n",
       "       0.09802658, 0.06285272, 0.03606196, 0.01851483, 0.00850619,\n",
       "       0.003497  , 0.00128647])"
      ]
     },
     "execution_count": 98,
     "metadata": {},
     "output_type": "execute_result"
    }
   ],
   "source": [
    "np.array([0.0012864741843387347, 0.0034969993980696547, 0.008506190349491677, 0.018514828519579474, 0.036061961771874894, 0.06285271768057651, 0.09802657538307226, 0.13680710659325385, 0.17085140034037768, 0.1909296978016222, 0.1936, 0.1936, 0.1936, 0.1936, 0.1936, 0.1936, 0.1936, 0.1936, 0.1936, 0.1936, 0.1936, 0.1936, 0.1936, 0.1936, 0.1936, 0.1936, 0.1936, 0.1936, 0.1936, 0.1936, 0.1936, 0.1936, 0.1936, 0.1936, 0.1936, 0.1936, 0.1936, 0.1936, 0.1936, 0.1936, 0.1936, 0.1936, 0.1909296978016222, 0.17085140034037768, 0.13680710659325385, 0.09802657538307226, 0.06285271768057651, 0.036061961771874894, 0.018514828519579474, 0.008506190349491677, 0.0034969993980696547, 0.0012864741843387347]\n",
    ")"
   ]
  },
  {
   "cell_type": "code",
   "execution_count": null,
   "metadata": {},
   "outputs": [],
   "source": []
  }
 ],
 "metadata": {
  "kernelspec": {
   "display_name": "Python 3 (ipykernel)",
   "language": "python",
   "name": "python3"
  },
  "language_info": {
   "codemirror_mode": {
    "name": "ipython",
    "version": 3
   },
   "file_extension": ".py",
   "mimetype": "text/x-python",
   "name": "python",
   "nbconvert_exporter": "python",
   "pygments_lexer": "ipython3",
   "version": "3.11.7"
  }
 },
 "nbformat": 4,
 "nbformat_minor": 4
}
