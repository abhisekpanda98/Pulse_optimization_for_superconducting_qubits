{
 "cells": [
  {
   "cell_type": "code",
   "execution_count": 1,
   "metadata": {},
   "outputs": [],
   "source": [
    "%matplotlib inline\n",
    "import numpy as np\n",
    "import matplotlib.pyplot as plt\n",
    "import cmath\n",
    "import datetime\n",
    "from scipy.linalg import expm"
   ]
  },
  {
   "cell_type": "code",
   "execution_count": 2,
   "metadata": {},
   "outputs": [],
   "source": [
    "from qutip import Qobj, identity, sigmax, sigmay, sigmaz, tensor\n",
    "from qutip.qip.algorithms import qft\n",
    "from qutip import *\n",
    "#import qutip.logging_utils as logging\n",
    "#logger = logging.get_logger()\n",
    "#Set this to None or logging.WARN for 'quiet' execution\n",
    "#log_level = logging.INFO\n",
    "#QuTiP control modules\n",
    "import qutip.control.pulseoptim as cpo\n",
    "import qutip.control.pulsegen as pulsegen\n",
    "\n",
    "example_name = 'QFT'"
   ]
  },
  {
   "cell_type": "code",
   "execution_count": 3,
   "metadata": {},
   "outputs": [
    {
     "data": {
      "text/latex": [
       "Quantum object: dims=[[2, 2], [2, 2]], shape=(4, 4), type='oper', dtype=Dense, isherm=True$$\\left(\\begin{array}{cc}0 & 0 & 0 & 0\\\\0 & 0 & 25.321 & 0\\\\0 & 25.321 & 655.399 & 0\\\\0 & 0 & 0 & 655.399\\end{array}\\right)$$"
      ],
      "text/plain": [
       "Quantum object: dims=[[2, 2], [2, 2]], shape=(4, 4), type='oper', dtype=Dense, isherm=True\n",
       "Qobj data =\n",
       "[[  0.           0.           0.           0.        ]\n",
       " [  0.           0.          25.32123679   0.        ]\n",
       " [  0.          25.32123679 655.39905939   0.        ]\n",
       " [  0.           0.           0.         655.39905939]]"
      ]
     },
     "execution_count": 3,
     "metadata": {},
     "output_type": "execute_result"
    }
   ],
   "source": [
    "# no. of levels for each transmon.\n",
    "N = 2\n",
    "f_1 = 5.03103*(10**3)\n",
    "f_2 = 4.92672*(10**3)\n",
    "delta_1 = -271\n",
    "delta_2 = -269\n",
    "# the lists of variables for all 6 qubits.\n",
    "f = [f_1, f_2] #the coefficient of the bare hamiltonian for each qubit\n",
    "delta = [delta_1, delta_2] #the coefficient for the Kerr term\n",
    "#      11    12     21    22\n",
    "J = [[ 0.0, 4.03],[4.03, 0.0]]\n",
    "\n",
    "# defines a_i.\n",
    "a_1 = tensor(destroy(N), qeye(N))\n",
    "a_2 = tensor(qeye(N), destroy(N))\n",
    "\n",
    "a = [a_1, a_2]\n",
    "\n",
    "# defines the identity matrix\n",
    "identity_matrix = tensor(qeye(N), qeye(N))\n",
    "# defines the zero matrix\n",
    "zero_ = Qobj(np.zeros((N,N)))\n",
    "zero_matrix = tensor(zero_, zero_)\n",
    "\n",
    "def Hamiltonian(f, delta, J, N):\n",
    "    \n",
    "    # defines the bare Hamiltonian\n",
    "    H_bare = zero_matrix\n",
    "    for i in range(2):\n",
    "        e = (f[i]-f[1])*(Qobj(a[i]).dag()*Qobj(a[i])) + 0.5*delta[i]*(Qobj(a[i]).dag()*Qobj(a[i]))*((Qobj(a[i]).dag()*Qobj(a[i])) - identity_matrix)\n",
    "        H_bare = H_bare + (2*np.pi)*e\n",
    "       \n",
    "    # defines the interaction Hamiltonian (the spins are labelled 0-5)\n",
    "    H_int = zero_matrix\n",
    "    for i in range(2):\n",
    "        # defines the interaction with the next neighbour on the right of the ith spin - which is the ((i+1) mod 6)-th spin..\n",
    "        p_neighbor_1 = (J[i][(i + 1)%2])*(Qobj(a[i]).dag()*Qobj(a[(i+1)%2]) + Qobj(a[i])*Qobj(a[(i+1)%2]).dag())\n",
    "        H_int = H_int + (2*np.pi)*0.5*(p_neighbor_1) #to prevent double counting, we need to multiply by 0.5.  \n",
    "    \n",
    "    #defines the full Hamiltonian\n",
    "    Ham = H_bare + H_int\n",
    "    return Ham\n",
    "\n",
    "H_d = Hamiltonian(f, delta, J, N)\n",
    "H_c = [ 25.4*(2*np.pi)*Qobj(a[0].dag() + a[0])/2,25.4*(2*np.pi)*Qobj(a[1].dag() + a[1])/2]\n",
    "n_ctrls = len(H_c)\n",
    "\n",
    "# start point for the gate evolution\n",
    "U_0 = identity_matrix\n",
    "# Target for the gate evolution - Quantum Fourier Transform gate\n",
    "from qutip.qip.operations import cnot\n",
    "U_targ = cnot()#(tensor(identity(2),identity(2))-1j*tensor(sigmaz(),sigmax()))*(1/np.sqrt(2))\n",
    "H_d"
   ]
  },
  {
   "cell_type": "code",
   "execution_count": 4,
   "metadata": {},
   "outputs": [
    {
     "data": {
      "text/latex": [
       "Quantum object: dims=[[2, 2], [2, 2]], shape=(4, 4), type='oper', dtype=Dense, isherm=True$$\\left(\\begin{array}{cc}1 & 0 & 0 & 0\\\\0 & 1 & 0 & 0\\\\0 & 0 & 0 & 1\\\\0 & 0 & 1 & 0\\end{array}\\right)$$"
      ],
      "text/plain": [
       "Quantum object: dims=[[2, 2], [2, 2]], shape=(4, 4), type='oper', dtype=Dense, isherm=True\n",
       "Qobj data =\n",
       "[[1. 0. 0. 0.]\n",
       " [0. 1. 0. 0.]\n",
       " [0. 0. 0. 1.]\n",
       " [0. 0. 1. 0.]]"
      ]
     },
     "execution_count": 4,
     "metadata": {},
     "output_type": "execute_result"
    }
   ],
   "source": [
    "if N==3:\n",
    "    U_targ\n",
    "    U_targ = np.zeros((N**2,N**2))\n",
    "    \n",
    "    U_targ[0][0] = 1\n",
    "    U_targ[1][1] = 1\n",
    "    U_targ[2][2] = 1\n",
    "    U_targ[3][4] = 1\n",
    "    U_targ[4][3] = 1\n",
    "    U_targ[5][5] = 1\n",
    "    U_targ[6][6] = 1\n",
    "    U_targ[7][7] = 1\n",
    "    U_targ[8][8] = 1\n",
    "    U_targ=Qobj(U_targ)\n",
    "else:\n",
    "    U_targ = cnot()#(tensor(identity(2),identity(2))-1j*tensor(sigmaz(),sigmax()))*(1/np.sqrt(2))\n",
    "U_targ"
   ]
  },
  {
   "cell_type": "code",
   "execution_count": 27,
   "metadata": {},
   "outputs": [],
   "source": [
    "# Duration of each timeslot\n",
    "#dt = 0.001\n",
    "# List of evolution times to try\n",
    "evo_times = [0.288, 3, 6]\n",
    "n_evo_times = len(evo_times)\n",
    "evo_time = evo_times[0]\n",
    "n_ts = 288#int(float(evo_time) / dt)\n",
    "#Empty list that will hold the results for each evolution time\n",
    "results = list()"
   ]
  },
  {
   "cell_type": "code",
   "execution_count": 28,
   "metadata": {},
   "outputs": [],
   "source": [
    "# Fidelity error target\n",
    "fid_err_targ = 1e-6\n",
    "# Maximum iterations for the optisation algorithm\n",
    "max_iter = 2000\n",
    "# Maximum (elapsed) time allowed in seconds\n",
    "max_wall_time = 300\n",
    "# Minimum gradient (sum of gradients squared)\n",
    "# as this tends to 0 -> local minima has been found\n",
    "min_grad = 1e-20"
   ]
  },
  {
   "cell_type": "code",
   "execution_count": 29,
   "metadata": {},
   "outputs": [],
   "source": [
    "# pulse type alternatives: RND|ZERO|LIN|SINE|SQUARE|SAW|TRIANGLE|\n",
    "p_type = 'SINE'"
   ]
  },
  {
   "cell_type": "code",
   "execution_count": 30,
   "metadata": {},
   "outputs": [],
   "source": [
    "#Set to None to suppress output files\n",
    "f_ext = \"{}_n_ts{}_ptype{}.txt\".format(example_name, n_ts, p_type)"
   ]
  },
  {
   "cell_type": "code",
   "execution_count": 31,
   "metadata": {},
   "outputs": [],
   "source": [
    "optim = cpo.create_pulse_optimizer(H_d, H_c, U_0, U_targ, n_ts, evo_time, \n",
    "                amp_lbound=-1 , amp_ubound=1 , \n",
    "                fid_err_targ=fid_err_targ, min_grad=min_grad, \n",
    "                max_iter=max_iter, max_wall_time=max_wall_time, \n",
    "                optim_method='fmin_l_bfgs_b',\n",
    "                method_params={'max_metric_corr':20, 'accuracy_factor':1e8},\n",
    "                dyn_type='UNIT', \n",
    "                fid_params={'phase_option':'PSU'},\n",
    "                init_pulse_type=p_type, gen_stats=True)\n",
    "\n",
    "# **** get handles to the other objects ****\n",
    "optim.test_out_files = 0\n",
    "dyn = optim.dynamics\n",
    "dyn.test_out_files = 0\n",
    "gen = optim.pulse_generator\n",
    "#gen,p_gen"
   ]
  },
  {
   "cell_type": "code",
   "execution_count": 32,
   "metadata": {},
   "outputs": [
    {
     "data": {
      "text/plain": [
       "array([[ 0.00000000e+00,  1.00000000e+00],\n",
       "       [ 6.90600210e-02,  9.97612507e-01],\n",
       "       [ 1.37790281e-01,  9.90461427e-01],\n",
       "       [ 2.05862595e-01,  9.78580907e-01],\n",
       "       [ 2.72951917e-01,  9.62027677e-01],\n",
       "       [ 3.38737898e-01,  9.40880777e-01],\n",
       "       [ 4.02906410e-01,  9.15241184e-01],\n",
       "       [ 4.65151049e-01,  8.85231327e-01],\n",
       "       [ 5.25174598e-01,  8.50994502e-01],\n",
       "       [ 5.82690445e-01,  8.12694189e-01],\n",
       "       [ 6.37423953e-01,  7.70513273e-01],\n",
       "       [ 6.89113770e-01,  7.24653166e-01],\n",
       "       [ 7.37513079e-01,  6.75332850e-01],\n",
       "       [ 7.82390772e-01,  6.22787829e-01],\n",
       "       [ 8.23532560e-01,  5.67269004e-01],\n",
       "       [ 8.60741991e-01,  5.09041477e-01],\n",
       "       [ 8.93841390e-01,  4.48383284e-01],\n",
       "       [ 9.22672709e-01,  3.85584067e-01],\n",
       "       [ 9.47098277e-01,  3.20943691e-01],\n",
       "       [ 9.67001465e-01,  2.54770813e-01],\n",
       "       [ 9.82287233e-01,  1.87381408e-01],\n",
       "       [ 9.92882593e-01,  1.19097259e-01],\n",
       "       [ 9.98736951e-01,  5.02444228e-02],\n",
       "       [ 9.99822354e-01, -1.88483302e-02],\n",
       "       [ 9.96133619e-01, -8.78510827e-02],\n",
       "       [ 9.87688359e-01, -1.56434347e-01],\n",
       "       [ 9.74526901e-01, -2.24270640e-01],\n",
       "       [ 9.56712089e-01, -2.91036044e-01],\n",
       "       [ 9.34328990e-01, -3.56411754e-01],\n",
       "       [ 9.07484483e-01, -4.20085603e-01],\n",
       "       [ 8.76306749e-01, -4.81753549e-01],\n",
       "       [ 8.40944662e-01, -5.41121128e-01],\n",
       "       [ 8.01567076e-01, -5.97904861e-01],\n",
       "       [ 7.58362018e-01, -6.51833606e-01],\n",
       "       [ 7.11535791e-01, -7.02649855e-01],\n",
       "       [ 6.61311990e-01, -7.50110959e-01],\n",
       "       [ 6.07930434e-01, -7.93990294e-01],\n",
       "       [ 5.51646018e-01, -8.34078336e-01],\n",
       "       [ 4.92727499e-01, -8.70183665e-01],\n",
       "       [ 4.31456213e-01, -9.02133879e-01],\n",
       "       [ 3.68124730e-01, -9.29776416e-01],\n",
       "       [ 3.03035456e-01, -9.52979282e-01],\n",
       "       [ 2.36499191e-01, -9.71631686e-01],\n",
       "       [ 1.68833647e-01, -9.85644561e-01],\n",
       "       [ 1.00361923e-01, -9.94950996e-01],\n",
       "       [ 3.14109733e-02, -9.99506554e-01],\n",
       "       [-3.76899637e-02, -9.99289481e-01],\n",
       "       [-1.06610932e-01, -9.94300814e-01],\n",
       "       [-1.75022834e-01, -9.84564375e-01],\n",
       "       [-2.42599004e-01, -9.70126653e-01],\n",
       "       [-3.09016768e-01, -9.51056590e-01],\n",
       "       [-3.73958980e-01, -9.27445244e-01],\n",
       "       [-4.37115544e-01, -8.99405360e-01],\n",
       "       [-4.98184886e-01, -8.67070827e-01],\n",
       "       [-5.56875403e-01, -8.30596042e-01],\n",
       "       [-6.12906847e-01, -7.90155173e-01],\n",
       "       [-6.66011668e-01, -7.45941323e-01],\n",
       "       [-7.15936293e-01, -6.98165613e-01],\n",
       "       [-7.62442332e-01, -6.47056172e-01],\n",
       "       [-8.05307719e-01, -5.92857046e-01],\n",
       "       [-8.44327772e-01, -5.35827036e-01],\n",
       "       [-8.79316172e-01, -4.76238459e-01],\n",
       "       [-9.10105848e-01, -4.14375850e-01],\n",
       "       [-9.36549782e-01, -3.50534601e-01],\n",
       "       [-9.58521702e-01, -2.85019555e-01],\n",
       "       [-9.75916694e-01, -2.18143544e-01],\n",
       "       [-9.88651698e-01, -1.50225900e-01],\n",
       "       [-9.96665902e-01, -8.15909296e-02],\n",
       "       [-9.99921040e-01, -1.25663638e-02],\n",
       "       [-9.98401569e-01,  5.65182063e-02],\n",
       "       [-9.92114743e-01,  1.25332903e-01],\n",
       "       [-9.81090583e-01,  1.93549136e-01],\n",
       "       [-9.65381728e-01,  2.60841175e-01],\n",
       "       [-9.45063189e-01,  3.26887701e-01],\n",
       "       [-9.20231985e-01,  3.91373342e-01],\n",
       "       [-8.91006686e-01,  4.53990181e-01],\n",
       "       [-8.57526842e-01,  5.14439223e-01],\n",
       "       [-8.19952319e-01,  5.72431825e-01],\n",
       "       [-7.78462535e-01,  6.27691072e-01],\n",
       "       [-7.33255602e-01,  6.79953103e-01],\n",
       "       [-6.84547384e-01,  7.28968367e-01],\n",
       "       [-6.32570461e-01,  7.74502816e-01],\n",
       "       [-5.77573022e-01,  8.16339025e-01],\n",
       "       [-5.19817680e-01,  8.54277226e-01],\n",
       "       [-4.59580216e-01,  8.88136265e-01],\n",
       "       [-3.97148262e-01,  9.17754465e-01],\n",
       "       [-3.32819931e-01,  9.42990400e-01],\n",
       "       [-2.66902389e-01,  9.63723568e-01],\n",
       "       [-1.99710391e-01,  9.79854969e-01],\n",
       "       [-1.31564779e-01,  9.91307575e-01],\n",
       "       [-6.27909474e-02,  9.98026702e-01],\n",
       "       [ 6.28271052e-03,  9.99980264e-01],\n",
       "       [ 7.53263686e-02,  9.97158933e-01],\n",
       "       [ 1.44010344e-01,  9.89576182e-01],\n",
       "       [ 2.12006672e-01,  9.77268218e-01],\n",
       "       [ 2.78990671e-01,  9.60293812e-01],\n",
       "       [ 3.44642494e-01,  9.38734015e-01],\n",
       "       [ 4.08648653e-01,  9.12691776e-01],\n",
       "       [ 4.70703520e-01,  8.82291446e-01],\n",
       "       [ 5.30510785e-01,  8.47678186e-01],\n",
       "       [ 5.87784867e-01,  8.09017274e-01],\n",
       "       [ 6.42252284e-01,  7.66493316e-01],\n",
       "       [ 6.93652956e-01,  7.20309362e-01],\n",
       "       [ 7.41741444e-01,  6.70685940e-01],\n",
       "       [ 7.86288126e-01,  6.17860003e-01],\n",
       "       [ 8.27080293e-01,  5.62083792e-01],\n",
       "       [ 8.63923163e-01,  5.03623638e-01],\n",
       "       [ 8.96640811e-01,  4.42758688e-01],\n",
       "       [ 9.25077011e-01,  3.79779571e-01],\n",
       "       [ 9.49095981e-01,  3.14987012e-01],\n",
       "       [ 9.68583031e-01,  2.48690395e-01],\n",
       "       [ 9.83445109e-01,  1.81206284e-01],\n",
       "       [ 9.93611250e-01,  1.12856915e-01],\n",
       "       [ 9.99032911e-01,  4.39686560e-02],\n",
       "       [ 9.99684203e-01, -2.51295526e-02],\n",
       "       [ 9.95562016e-01, -9.41077680e-02],\n",
       "       [ 9.86686034e-01, -1.62636620e-01],\n",
       "       [ 9.73098639e-01, -2.30388884e-01],\n",
       "       [ 9.54864712e-01, -2.97041045e-01],\n",
       "       [ 9.32071318e-01, -3.62274838e-01],\n",
       "       [ 9.04827296e-01, -4.25778774e-01],\n",
       "       [ 8.73262736e-01, -4.87249622e-01],\n",
       "       [ 8.37528358e-01, -5.46393860e-01],\n",
       "       [ 7.97794793e-01, -6.02929074e-01],\n",
       "       [ 7.54251769e-01, -6.56585310e-01],\n",
       "       [ 7.07107202e-01, -7.07106360e-01],\n",
       "       [ 6.56586208e-01, -7.54250987e-01],\n",
       "       [ 6.02930024e-01, -7.97794075e-01],\n",
       "       [ 5.46394857e-01, -8.37527707e-01],\n",
       "       [ 4.87250662e-01, -8.73262155e-01],\n",
       "       [ 4.25779852e-01, -9.04826789e-01],\n",
       "       [ 3.62275948e-01, -9.32070886e-01],\n",
       "       [ 2.97042182e-01, -9.54864358e-01],\n",
       "       [ 2.30390043e-01, -9.73098365e-01],\n",
       "       [ 1.62637795e-01, -9.86685840e-01],\n",
       "       [ 9.41089535e-02, -9.95561904e-01],\n",
       "       [ 2.51307430e-02, -9.99684173e-01],\n",
       "       [-4.39674664e-02, -9.99032963e-01],\n",
       "       [-1.12855732e-01, -9.93611385e-01],\n",
       "       [-1.81205112e-01, -9.83445325e-01],\n",
       "       [-2.48689241e-01, -9.68583327e-01],\n",
       "       [-3.14985882e-01, -9.49096357e-01],\n",
       "       [-3.79778470e-01, -9.25077464e-01],\n",
       "       [-4.42757620e-01, -8.96641338e-01],\n",
       "       [-5.03622609e-01, -8.63923763e-01],\n",
       "       [-5.62082807e-01, -8.27080962e-01],\n",
       "       [-6.17859066e-01, -7.86288862e-01],\n",
       "       [-6.70685057e-01, -7.41742242e-01],\n",
       "       [-7.20308536e-01, -6.93653814e-01],\n",
       "       [-7.66492551e-01, -6.42253197e-01],\n",
       "       [-8.09016574e-01, -5.87785830e-01],\n",
       "       [-8.47677555e-01, -5.30511794e-01],\n",
       "       [-8.82290886e-01, -4.70704571e-01],\n",
       "       [-9.12691290e-01, -4.08649740e-01],\n",
       "       [-9.38733605e-01, -3.44643612e-01],\n",
       "       [-9.60293480e-01, -2.78991815e-01],\n",
       "       [-9.77267966e-01, -2.12007836e-01],\n",
       "       [-9.89576011e-01, -1.44011523e-01],\n",
       "       [-9.97158844e-01, -7.53275560e-02],\n",
       "       [-9.99980256e-01, -6.28390131e-03],\n",
       "       [-9.98026776e-01,  6.27897589e-02],\n",
       "       [-9.91307732e-01,  1.31563599e-01],\n",
       "       [-9.79855206e-01,  1.99709224e-01],\n",
       "       [-9.63723886e-01,  2.66901241e-01],\n",
       "       [-9.42990796e-01,  3.32818808e-01],\n",
       "       [-9.17754938e-01,  3.97147169e-01],\n",
       "       [-8.88136812e-01,  4.59579158e-01],\n",
       "       [-8.54277845e-01,  5.19816663e-01],\n",
       "       [-8.16339713e-01,  5.77572050e-01],\n",
       "       [-7.74503569e-01,  6.32569538e-01],\n",
       "       [-7.28969182e-01,  6.84546516e-01],\n",
       "       [-6.79953976e-01,  7.33254792e-01],\n",
       "       [-6.27691999e-01,  7.78461787e-01],\n",
       "       [-5.72432801e-01,  8.19951638e-01],\n",
       "       [-5.14440245e-01,  8.57526230e-01],\n",
       "       [-4.53991242e-01,  8.91006146e-01],\n",
       "       [-3.91374438e-01,  9.20231519e-01],\n",
       "       [-3.26888826e-01,  9.45062800e-01],\n",
       "       [-2.60842325e-01,  9.65381418e-01],\n",
       "       [-1.93550305e-01,  9.81090352e-01],\n",
       "       [-1.25334084e-01,  9.92114594e-01],\n",
       "       [-5.65193953e-02,  9.98401501e-01],\n",
       "       [ 1.25651730e-02,  9.99921055e-01],\n",
       "       [ 8.15897428e-02,  9.96665999e-01],\n",
       "       [ 1.50224723e-01,  9.88651876e-01],\n",
       "       [ 2.18142381e-01,  9.75916954e-01],\n",
       "       [ 2.85018413e-01,  9.58522042e-01],\n",
       "       [ 3.50533486e-01,  9.36550199e-01],\n",
       "       [ 4.14374766e-01,  9.10106342e-01],\n",
       "       [ 4.76237412e-01,  8.79316739e-01],\n",
       "       [ 5.35826031e-01,  8.44328410e-01],\n",
       "       [ 5.92856088e-01,  8.05308425e-01],\n",
       "       [ 6.47055264e-01,  7.62443103e-01],\n",
       "       [ 6.98164761e-01,  7.15937125e-01],\n",
       "       [ 7.45940530e-01,  6.66012557e-01],\n",
       "       [ 7.90154443e-01,  6.12907788e-01],\n",
       "       [ 8.30595379e-01,  5.56876392e-01],\n",
       "       [ 8.67070234e-01,  4.98185919e-01],\n",
       "       [ 8.99404839e-01,  4.37116615e-01],\n",
       "       [ 9.27444799e-01,  3.73960085e-01],\n",
       "       [ 9.51056222e-01,  3.09017900e-01],\n",
       "       [ 9.70126364e-01,  2.42600160e-01],\n",
       "       [ 9.84564166e-01,  1.75024006e-01],\n",
       "       [ 9.94300687e-01,  1.06612116e-01],\n",
       "       [ 9.99289436e-01,  3.76911537e-02],\n",
       "       [ 9.99506591e-01, -3.14097831e-02],\n",
       "       [ 9.94951115e-01, -1.00360739e-01],\n",
       "       [ 9.85644762e-01, -1.68832473e-01],\n",
       "       [ 9.71631967e-01, -2.36498034e-01],\n",
       "       [ 9.52979643e-01, -3.03034321e-01],\n",
       "       [ 9.29776854e-01, -3.68123623e-01],\n",
       "       [ 9.02134393e-01, -4.31455139e-01],\n",
       "       [ 8.70184252e-01, -4.92726463e-01],\n",
       "       [ 8.34078993e-01, -5.51645024e-01],\n",
       "       [ 7.93991018e-01, -6.07929488e-01],\n",
       "       [ 7.50111747e-01, -6.61311097e-01],\n",
       "       [ 7.02650702e-01, -7.11534954e-01],\n",
       "       [ 6.51834509e-01, -7.58361242e-01],\n",
       "       [ 5.97905815e-01, -8.01566364e-01],\n",
       "       [ 5.41122129e-01, -8.40944018e-01],\n",
       "       [ 4.81754592e-01, -8.76306175e-01],\n",
       "       [ 4.20086684e-01, -9.07483982e-01],\n",
       "       [ 3.56412867e-01, -9.34328566e-01],\n",
       "       [ 2.91037183e-01, -9.56711742e-01],\n",
       "       [ 2.24271801e-01, -9.74526633e-01],\n",
       "       [ 1.56435524e-01, -9.87688173e-01],\n",
       "       [ 8.78522689e-02, -9.96133515e-01],\n",
       "       [ 1.88495208e-02, -9.99822332e-01],\n",
       "       [-5.02432335e-02, -9.98737011e-01],\n",
       "       [-1.19096077e-01, -9.92882734e-01],\n",
       "       [-1.87380238e-01, -9.82287456e-01],\n",
       "       [-2.54769662e-01, -9.67001768e-01],\n",
       "       [-3.20942563e-01, -9.47098660e-01],\n",
       "       [-3.85582968e-01, -9.22673168e-01],\n",
       "       [-4.48382220e-01, -8.93841924e-01],\n",
       "       [-5.09040452e-01, -8.60742597e-01],\n",
       "       [-5.67268023e-01, -8.23533235e-01],\n",
       "       [-6.22786897e-01, -7.82391514e-01],\n",
       "       [-6.75331972e-01, -7.37513883e-01],\n",
       "       [-7.24652346e-01, -6.89114633e-01],\n",
       "       [-7.70512514e-01, -6.37424871e-01],\n",
       "       [-8.12693496e-01, -5.82691413e-01],\n",
       "       [-8.50993876e-01, -5.25175611e-01],\n",
       "       [-8.85230773e-01, -4.65152103e-01],\n",
       "       [-9.15240704e-01, -4.02907499e-01],\n",
       "       [-9.40880374e-01, -3.38739018e-01],\n",
       "       [-9.62027352e-01, -2.72953063e-01],\n",
       "       [-9.78580662e-01, -2.05863760e-01],\n",
       "       [-9.90461263e-01, -1.37791461e-01],\n",
       "       [-9.97612424e-01, -6.90612089e-02],\n",
       "       [-1.00000000e+00, -1.19081532e-06],\n",
       "       [-9.97612589e-01,  6.90588330e-02],\n",
       "       [-9.90461591e-01,  1.37789102e-01],\n",
       "       [-9.78581152e-01,  2.05861429e-01],\n",
       "       [-9.62028002e-01,  2.72950772e-01],\n",
       "       [-9.40881180e-01,  3.38736777e-01],\n",
       "       [-9.15241664e-01,  4.02905320e-01],\n",
       "       [-8.85231881e-01,  4.65149994e-01],\n",
       "       [-8.50995127e-01,  5.25173584e-01],\n",
       "       [-8.12694883e-01,  5.82689477e-01],\n",
       "       [-7.70514032e-01,  6.37423036e-01],\n",
       "       [-7.24653987e-01,  6.89112907e-01],\n",
       "       [-6.75333729e-01,  7.37512275e-01],\n",
       "       [-6.22788761e-01,  7.82390030e-01],\n",
       "       [-5.67269985e-01,  8.23531884e-01],\n",
       "       [-5.09042502e-01,  8.60741384e-01],\n",
       "       [-4.48384349e-01,  8.93840856e-01],\n",
       "       [-3.85585166e-01,  9.22672249e-01],\n",
       "       [-3.20944819e-01,  9.47097895e-01],\n",
       "       [-2.54771965e-01,  9.67001161e-01],\n",
       "       [-1.87382578e-01,  9.82287010e-01],\n",
       "       [-1.19098442e-01,  9.92882451e-01],\n",
       "       [-5.02456122e-02,  9.98736892e-01],\n",
       "       [ 1.88471396e-02,  9.99822377e-01],\n",
       "       [ 8.78498965e-02,  9.96133724e-01],\n",
       "       [ 1.56433171e-01,  9.87688546e-01],\n",
       "       [ 2.24269480e-01,  9.74527168e-01],\n",
       "       [ 2.91034905e-01,  9.56712436e-01],\n",
       "       [ 3.56410641e-01,  9.34329414e-01],\n",
       "       [ 4.20084522e-01,  9.07484983e-01],\n",
       "       [ 4.81752505e-01,  8.76307323e-01],\n",
       "       [ 5.41120127e-01,  8.40945307e-01],\n",
       "       [ 5.97903906e-01,  8.01567788e-01],\n",
       "       [ 6.51832703e-01,  7.58362794e-01],\n",
       "       [ 7.02649007e-01,  7.11536628e-01],\n",
       "       [ 7.50110172e-01,  6.61312884e-01],\n",
       "       [ 7.93989570e-01,  6.07931379e-01],\n",
       "       [ 8.34077679e-01,  5.51647011e-01]])"
      ]
     },
     "execution_count": 32,
     "metadata": {},
     "output_type": "execute_result"
    }
   ],
   "source": [
    "# Generate the tau (duration) and time (cumulative) arrays\n",
    "    # so that it can be used to create the pulse generator\n",
    "    # with matching timeslots\n",
    "dyn.init_timeslots()\n",
    "# Create a new pulse generator for the new dynamics\n",
    "p_gen = pulsegen.create_pulse_gen(p_type, dyn)\n",
    "#p_gen.PulseGenGaussianEdge(dyn=dyn, decay_time=0.016)\n",
    "#p_gen.scaling = 0.2\n",
    "#p_gen.lbound = -10\n",
    "#p_gen.ubound = 50*2\n",
    "\n",
    "#Generate different initial pulses for each of the controls\n",
    "init_amps = np.zeros([n_ts, n_ctrls])\n",
    "if (p_gen.periodic):\n",
    "    phase_diff = np.pi / n_ctrls\n",
    "    for j in range(n_ctrls):\n",
    "        init_amps[:, j] = p_gen.gen_pulse(freq=11,start_phase=phase_diff*j)\n",
    "elif (isinstance(p_gen, pulsegen.PulseGenLinear)):\n",
    "    for j in range(n_ctrls):\n",
    "        p_gen.scaling = float(j) - float(n_ctrls - 1)/2\n",
    "        init_amps[:, j] = p_gen.gen_pulse()\n",
    "elif (isinstance(p_gen, pulsegen.PulseGenZero)):\n",
    "    for j in range(n_ctrls):\n",
    "        p_gen.offset = sf = float(j) - float(n_ctrls - 1)/2\n",
    "        init_amps[:, j] = p_gen.gen_pulse()\n",
    "elif (isinstance(p_gen, pulsegen.PulseGenGaussianEdge)):\n",
    "    for j in range(n_ctrls):        \n",
    "        p_gen.decay_time = evo_time/5\n",
    "        gen.ramping_pulse=p_gen.gen_pulse()\n",
    "        gen.init_pulse()\n",
    "        init_amps[:, j] = gen.gen_pulse()\n",
    "else:\n",
    "    # Should be random pulse\n",
    "    for j in range(n_ctrls):\n",
    "        init_amps[:, j] = p_gen.gen_pulse()\n",
    "#for j in range(len(init_amps[:, 0])):\n",
    "#    init_amps[j, 0] = -0.3#p_gen.gen_pulse()\n",
    "\n",
    "\n",
    "dyn.initialize_controls(init_amps)\n",
    "init_amps"
   ]
  },
  {
   "cell_type": "code",
   "execution_count": 33,
   "metadata": {},
   "outputs": [
    {
     "data": {
      "text/plain": [
       "\u001b[1;31mSignature:\u001b[0m \u001b[0mp_gen\u001b[0m\u001b[1;33m.\u001b[0m\u001b[0minit_pulse\u001b[0m\u001b[1;33m(\u001b[0m\u001b[0mnum_waves\u001b[0m\u001b[1;33m=\u001b[0m\u001b[1;32mNone\u001b[0m\u001b[1;33m,\u001b[0m \u001b[0mwavelen\u001b[0m\u001b[1;33m=\u001b[0m\u001b[1;32mNone\u001b[0m\u001b[1;33m,\u001b[0m \u001b[0mfreq\u001b[0m\u001b[1;33m=\u001b[0m\u001b[1;32mNone\u001b[0m\u001b[1;33m,\u001b[0m \u001b[0mstart_phase\u001b[0m\u001b[1;33m=\u001b[0m\u001b[1;32mNone\u001b[0m\u001b[1;33m)\u001b[0m\u001b[1;33m\u001b[0m\u001b[1;33m\u001b[0m\u001b[0m\n",
       "\u001b[1;31mDocstring:\u001b[0m\n",
       "Calculate the wavelength, frequency, number of waves etc\n",
       "from the each other and the other parameters\n",
       "If num_waves is given then the other parameters are worked from this\n",
       "Otherwise if the wavelength is given then it is the driver\n",
       "Otherwise the frequency is used to calculate wavelength and num_waves\n",
       "\u001b[1;31mFile:\u001b[0m      c:\\users\\hp\\appdata\\roaming\\python\\python311\\site-packages\\qutip_qtrl\\pulsegen.py\n",
       "\u001b[1;31mType:\u001b[0m      method"
      ]
     },
     "metadata": {},
     "output_type": "display_data"
    }
   ],
   "source": [
    "?p_gen.init_pulse"
   ]
  },
  {
   "cell_type": "code",
   "execution_count": 34,
   "metadata": {},
   "outputs": [
    {
     "data": {
      "text/plain": [
       "[<matplotlib.lines.Line2D at 0x17a8d879e90>]"
      ]
     },
     "execution_count": 34,
     "metadata": {},
     "output_type": "execute_result"
    },
    {
     "data": {
      "image/png": "[encoded data removed]",
      "text/plain": [
       "<Figure size 640x480 with 1 Axes>"
      ]
     },
     "metadata": {},
     "output_type": "display_data"
    }
   ],
   "source": [
    "plt.plot(init_amps[:,1])"
   ]
  },
  {
   "cell_type": "code",
   "execution_count": 35,
   "metadata": {},
   "outputs": [
    {
     "name": "stdout",
     "output_type": "stream",
     "text": [
      "Initial amplitudes output to file: ctrl_amps_initial_QFT_n_ts288_ptypeSINE.txt\n",
      "***********************************\n",
      "\n",
      "+++++++++++++++++++++++++++++++++++\n",
      "Starting pulse optimisation for T=0.288\n",
      "+++++++++++++++++++++++++++++++++++\n",
      "\n",
      "Final amplitudes output to file: ctrl_amps_final_QFT_n_ts288_ptypeSINE.txt\n",
      "********* Summary *****************\n",
      "Final fidelity error 4.083463782078578e-05\n",
      "Final gradient normal 0.00019851682613057265\n",
      "Terminated due to function converged\n",
      "Number of iterations 382\n",
      "Completed in 0:00:53.594631 HH:MM:SS.US\n"
     ]
    }
   ],
   "source": [
    "\n",
    "    \n",
    "# Save initial amplitudes to a text file\n",
    "if f_ext is not None:\n",
    "    pulsefile = \"ctrl_amps_initial_\" + f_ext\n",
    "    dyn.save_amps(pulsefile)\n",
    "    print(\"Initial amplitudes output to file: \" + pulsefile)\n",
    "\n",
    "print(\"***********************************\")\n",
    "print(\"\\n+++++++++++++++++++++++++++++++++++\")\n",
    "print(\"Starting pulse optimisation for T={}\".format(evo_time))\n",
    "print(\"+++++++++++++++++++++++++++++++++++\\n\")\n",
    "results = optim.run_optimization()\n",
    "\n",
    "    # Save final amplitudes to a text file\n",
    "if f_ext is not None:\n",
    "    pulsefile = \"ctrl_amps_final_\" + f_ext\n",
    "    dyn.save_amps(pulsefile)\n",
    "    print(\"Final amplitudes output to file: \" + pulsefile)\n",
    "    \n",
    "# Report the results\n",
    "#results.stats.report()\n",
    "#print(\"Final evolution\\n{}\\n\".format(results.evo_full_final))\n",
    "print(\"********* Summary *****************\")\n",
    "print(\"Final fidelity error {}\".format(results.fid_err))\n",
    "print(\"Final gradient normal {}\".format(results.grad_norm_final))\n",
    "print(\"Terminated due to {}\".format(results.termination_reason))\n",
    "print(\"Number of iterations {}\".format(results.num_iter))\n",
    "print(\"Completed in {} HH:MM:SS.US\".format(\n",
    "            datetime.timedelta(seconds=results.wall_time)))"
   ]
  },
  {
   "cell_type": "code",
   "execution_count": 36,
   "metadata": {},
   "outputs": [
    {
     "name": "stdout",
     "output_type": "stream",
     "text": [
      "(288,)\n"
     ]
    },
    {
     "data": {
      "image/png": "[encoded data removed]",
      "text/plain": [
       "<Figure size 640x480 with 1 Axes>"
      ]
     },
     "metadata": {},
     "output_type": "display_data"
    },
    {
     "data": {
      "image/png": "[encoded data removed]",
      "text/plain": [
       "<Figure size 640x480 with 1 Axes>"
      ]
     },
     "metadata": {},
     "output_type": "display_data"
    },
    {
     "name": "stdout",
     "output_type": "stream",
     "text": [
      "Fidelity :  0.9999591653621792\n"
     ]
    },
    {
     "data": {
      "text/latex": [
       "Quantum object: dims=[[2, 2], [2, 2]], shape=(4, 4), type='oper', dtype=Dense, isherm=False$$\\left(\\begin{array}{cc}1.000 & (0.006-0.007j) & 0.003 & -0.001\\\\(-0.006-0.007j) & (1.000-0.005j) & 0.001 & -0.003\\\\0.001 & 0.003 & (0.002+0.007j) & (1.000-0.004j)\\\\-0.003 & -0.001 & (1.000-0.004j) & (-0.002+0.007j)\\end{array}\\right)$$"
      ],
      "text/plain": [
       "Quantum object: dims=[[2, 2], [2, 2]], shape=(4, 4), type='oper', dtype=Dense, isherm=False\n",
       "Qobj data =\n",
       "[[ 0.99995433-5.55111512e-17j  0.00584504-6.90170253e-03j\n",
       "   0.00259563+1.99456961e-04j -0.00143434+8.42424599e-04j]\n",
       " [-0.005888  -6.87364615e-03j  0.99994025-5.06772773e-03j\n",
       "   0.00135223-2.36647686e-04j -0.00316228+8.15042959e-05j]\n",
       " [ 0.00141289+7.96634205e-04j  0.0031755 +3.70137307e-05j\n",
       "   0.00207437+6.90753355e-03j  0.99995846-4.28305535e-03j]\n",
       " [-0.00259671+2.29669669e-04j -0.00137484-1.82804871e-04j\n",
       "   0.99995999-4.39689941e-03j -0.00200649+6.92339601e-03j]]"
      ]
     },
     "execution_count": 36,
     "metadata": {},
     "output_type": "execute_result"
    }
   ],
   "source": [
    "print(results.final_amps[:,0].shape)\n",
    "plt.plot(results.time[:-1], 25.4*results.final_amps[:,0]*2/2,color = 'black', label='2 qubit')\n",
    "plt.plot(results.time[:-1], results.initial_amps[:,0],color = 'green')\n",
    "#plt.tight_layout()\n",
    "plt.show()\n",
    "#print(results.final_amps[:,1].shape)\n",
    "plt.plot(results.time[:-1], 25.4*results.final_amps[:,1]*2/2,color = 'black', label='1 qubit')\n",
    "#plt.plot(results.time[:-1], 25.4*np.sin(2*np.pi*(f_1-f_2)*np.linspace(0,0.2,200)),color = 'green', label='1 qubit')\n",
    "plt.plot(results.time[:-1], results.initial_amps[:,1],color = 'green')\n",
    "plt.xlabel(\"time(micro seconds)\")\n",
    "plt.ylabel('Pulse amplitude(MHz)')\n",
    "plt.tight_layout()\n",
    "plt.legend()\n",
    "plt.savefig(\"pulse.png\")\n",
    "\n",
    "plt.show()\n",
    "U=results.evo_full_final\n",
    "print(\"Fidelity : \",1-results.fid_err)\n",
    "U*np.exp(-1j*cmath.polar(U[0][0])[1])"
   ]
  },
  {
   "cell_type": "code",
   "execution_count": 17,
   "metadata": {},
   "outputs": [
    {
     "ename": "TypeError",
     "evalue": "incompatible dimensions [[4], [4]] and [[9], [9]]",
     "output_type": "error",
     "traceback": [
      "\u001b[1;31m---------------------------------------------------------------------------\u001b[0m",
      "\u001b[1;31mTypeError\u001b[0m                                 Traceback (most recent call last)",
      "Cell \u001b[1;32mIn[17], line 5\u001b[0m\n\u001b[0;32m      3\u001b[0m fid\u001b[38;5;241m=\u001b[39m[]\n\u001b[0;32m      4\u001b[0m \u001b[38;5;28;01mfor\u001b[39;00m i \u001b[38;5;129;01min\u001b[39;00m \u001b[38;5;28mrange\u001b[39m(\u001b[38;5;28mlen\u001b[39m(results\u001b[38;5;241m.\u001b[39mfinal_amps[:,\u001b[38;5;241m1\u001b[39m])):\n\u001b[1;32m----> 5\u001b[0m     U\u001b[38;5;241m=\u001b[39mQobj(expm(\u001b[38;5;241m0.001\u001b[39m\u001b[38;5;241m*\u001b[39m\u001b[38;5;241m1\u001b[39mj\u001b[38;5;241m*\u001b[39m(H_d\u001b[38;5;241m.\u001b[39mfull()\u001b[38;5;241m+\u001b[39mresults\u001b[38;5;241m.\u001b[39mfinal_amps[i,\u001b[38;5;241m0\u001b[39m]\u001b[38;5;241m*\u001b[39mH_c[\u001b[38;5;241m0\u001b[39m]\u001b[38;5;241m.\u001b[39mfull()\u001b[38;5;241m+\u001b[39mresults\u001b[38;5;241m.\u001b[39mfinal_amps[i,\u001b[38;5;241m1\u001b[39m]\u001b[38;5;241m*\u001b[39mH_c[\u001b[38;5;241m1\u001b[39m]\u001b[38;5;241m.\u001b[39mfull())))\u001b[38;5;241m*\u001b[39mU\n\u001b[0;32m      6\u001b[0m     fid\u001b[38;5;241m.\u001b[39mappend(np\u001b[38;5;241m.\u001b[39mabs((Qobj(U_targ\u001b[38;5;241m.\u001b[39mdag()\u001b[38;5;241m.\u001b[39mfull())\u001b[38;5;241m*\u001b[39mU)\u001b[38;5;241m.\u001b[39mtr())\u001b[38;5;241m/\u001b[39m\u001b[38;5;241m4\u001b[39m)\n\u001b[0;32m      7\u001b[0m \u001b[38;5;66;03m#U=U*np.exp(-1j*cmath.polar(U[0][0])[1])\u001b[39;00m\n",
      "File \u001b[1;32m~\\AppData\\Roaming\\Python\\Python311\\site-packages\\qutip\\core\\qobj.py:434\u001b[0m, in \u001b[0;36mQobj.__mul__\u001b[1;34m(self, other)\u001b[0m\n\u001b[0;32m    427\u001b[0m \u001b[38;5;250m\u001b[39m\u001b[38;5;124;03m\"\"\"\u001b[39;00m\n\u001b[0;32m    428\u001b[0m \u001b[38;5;124;03mIf other is a Qobj, we dispatch to __matmul__. If not, we\u001b[39;00m\n\u001b[0;32m    429\u001b[0m \u001b[38;5;124;03mcheck that other is a valid complex scalar, i.e., we can do\u001b[39;00m\n\u001b[0;32m    430\u001b[0m \u001b[38;5;124;03mcomplex(other). Otherwise, we return NotImplemented.\u001b[39;00m\n\u001b[0;32m    431\u001b[0m \u001b[38;5;124;03m\"\"\"\u001b[39;00m\n\u001b[0;32m    433\u001b[0m \u001b[38;5;28;01mif\u001b[39;00m \u001b[38;5;28misinstance\u001b[39m(other, Qobj):\n\u001b[1;32m--> 434\u001b[0m     \u001b[38;5;28;01mreturn\u001b[39;00m \u001b[38;5;28mself\u001b[39m\u001b[38;5;241m.\u001b[39m\u001b[38;5;21m__matmul__\u001b[39m(other)\n\u001b[0;32m    436\u001b[0m \u001b[38;5;66;03m# We send other to mul instead of complex(other) to be more flexible.\u001b[39;00m\n\u001b[0;32m    437\u001b[0m \u001b[38;5;66;03m# The dispatcher can then decide how to handle other and return\u001b[39;00m\n\u001b[0;32m    438\u001b[0m \u001b[38;5;66;03m# TypeError if it does not know what to do with the type of other.\u001b[39;00m\n\u001b[0;32m    439\u001b[0m \u001b[38;5;28;01mtry\u001b[39;00m:\n",
      "File \u001b[1;32m~\\AppData\\Roaming\\Python\\Python311\\site-packages\\qutip\\core\\qobj.py:471\u001b[0m, in \u001b[0;36mQobj.__matmul__\u001b[1;34m(self, other)\u001b[0m\n\u001b[0;32m    469\u001b[0m     \u001b[38;5;28;01mexcept\u001b[39;00m \u001b[38;5;167;01mTypeError\u001b[39;00m:\n\u001b[0;32m    470\u001b[0m         \u001b[38;5;28;01mreturn\u001b[39;00m \u001b[38;5;28mNotImplemented\u001b[39m\n\u001b[1;32m--> 471\u001b[0m new_dims \u001b[38;5;241m=\u001b[39m \u001b[38;5;28mself\u001b[39m\u001b[38;5;241m.\u001b[39m_dims \u001b[38;5;241m@\u001b[39m other\u001b[38;5;241m.\u001b[39m_dims\n\u001b[0;32m    472\u001b[0m \u001b[38;5;28;01mif\u001b[39;00m new_dims\u001b[38;5;241m.\u001b[39mtype \u001b[38;5;241m==\u001b[39m \u001b[38;5;124m'\u001b[39m\u001b[38;5;124mscalar\u001b[39m\u001b[38;5;124m'\u001b[39m:\n\u001b[0;32m    473\u001b[0m     \u001b[38;5;28;01mreturn\u001b[39;00m _data\u001b[38;5;241m.\u001b[39minner(\u001b[38;5;28mself\u001b[39m\u001b[38;5;241m.\u001b[39m_data, other\u001b[38;5;241m.\u001b[39m_data)\n",
      "File \u001b[1;32m~\\AppData\\Roaming\\Python\\Python311\\site-packages\\qutip\\core\\dimensions.py:828\u001b[0m, in \u001b[0;36mDimensions.__matmul__\u001b[1;34m(self, other)\u001b[0m\n\u001b[0;32m    826\u001b[0m \u001b[38;5;28;01mdef\u001b[39;00m \u001b[38;5;21m__matmul__\u001b[39m(\u001b[38;5;28mself\u001b[39m, other):\n\u001b[0;32m    827\u001b[0m     \u001b[38;5;28;01mif\u001b[39;00m \u001b[38;5;28mself\u001b[39m\u001b[38;5;241m.\u001b[39mfrom_ \u001b[38;5;241m!=\u001b[39m other\u001b[38;5;241m.\u001b[39mto_:\n\u001b[1;32m--> 828\u001b[0m         \u001b[38;5;28;01mraise\u001b[39;00m \u001b[38;5;167;01mTypeError\u001b[39;00m(\u001b[38;5;124mf\u001b[39m\u001b[38;5;124m\"\u001b[39m\u001b[38;5;124mincompatible dimensions \u001b[39m\u001b[38;5;132;01m{\u001b[39;00m\u001b[38;5;28mself\u001b[39m\u001b[38;5;132;01m}\u001b[39;00m\u001b[38;5;124m and \u001b[39m\u001b[38;5;132;01m{\u001b[39;00mother\u001b[38;5;132;01m}\u001b[39;00m\u001b[38;5;124m\"\u001b[39m)\n\u001b[0;32m    829\u001b[0m     args \u001b[38;5;241m=\u001b[39m other\u001b[38;5;241m.\u001b[39mfrom_, \u001b[38;5;28mself\u001b[39m\u001b[38;5;241m.\u001b[39mto_\n\u001b[0;32m    830\u001b[0m     \u001b[38;5;28;01mif\u001b[39;00m args \u001b[38;5;129;01min\u001b[39;00m Dimensions\u001b[38;5;241m.\u001b[39m_stored_dims:\n",
      "\u001b[1;31mTypeError\u001b[0m: incompatible dimensions [[4], [4]] and [[9], [9]]"
     ]
    }
   ],
   "source": [
    "from scipy.linalg import expm\n",
    "U=identity(9)\n",
    "fid=[]\n",
    "for i in range(len(results.final_amps[:,1])):\n",
    "    U=Qobj(expm(0.001*1j*(H_d.full()+results.final_amps[i,0]*H_c[0].full()+results.final_amps[i,1]*H_c[1].full())))*U\n",
    "    fid.append(np.abs((Qobj(U_targ.dag().full())*U).tr())/4)\n",
    "#U=U*np.exp(-1j*cmath.polar(U[0][0])[1])\n",
    "plt.xlabel(\"time(micro seconds)\")\n",
    "plt.ylabel('Fidelity')\n",
    "plt.plot(results.time[:-1],fid)\n",
    "\n",
    "plt.savefig(\"fidelity.png\")\n",
    "\n",
    "plt.show()"
   ]
  },
  {
   "cell_type": "code",
   "execution_count": null,
   "metadata": {},
   "outputs": [],
   "source": []
  },
  {
   "cell_type": "code",
   "execution_count": null,
   "metadata": {},
   "outputs": [],
   "source": []
  },
  {
   "cell_type": "code",
   "execution_count": null,
   "metadata": {},
   "outputs": [],
   "source": []
  },
  {
   "cell_type": "code",
   "execution_count": null,
   "metadata": {},
   "outputs": [],
   "source": []
  },
  {
   "cell_type": "code",
   "execution_count": null,
   "metadata": {},
   "outputs": [],
   "source": []
  },
  {
   "cell_type": "code",
   "execution_count": null,
   "metadata": {},
   "outputs": [],
   "source": []
  },
  {
   "cell_type": "code",
   "execution_count": null,
   "metadata": {},
   "outputs": [],
   "source": []
  },
  {
   "cell_type": "code",
   "execution_count": null,
   "metadata": {},
   "outputs": [],
   "source": []
  },
  {
   "cell_type": "code",
   "execution_count": null,
   "metadata": {},
   "outputs": [],
   "source": []
  },
  {
   "cell_type": "code",
   "execution_count": null,
   "metadata": {},
   "outputs": [],
   "source": []
  },
  {
   "cell_type": "code",
   "execution_count": null,
   "metadata": {},
   "outputs": [],
   "source": []
  },
  {
   "cell_type": "code",
   "execution_count": null,
   "metadata": {},
   "outputs": [],
   "source": []
  },
  {
   "cell_type": "code",
   "execution_count": null,
   "metadata": {},
   "outputs": [],
   "source": []
  },
  {
   "cell_type": "code",
   "execution_count": null,
   "metadata": {},
   "outputs": [],
   "source": []
  },
  {
   "cell_type": "raw",
   "metadata": {},
   "source": []
  }
 ],
 "metadata": {
  "kernelspec": {
   "display_name": "Python 3 (ipykernel)",
   "language": "python",
   "name": "python3"
  },
  "language_info": {
   "codemirror_mode": {
    "name": "ipython",
    "version": 3
   },
   "file_extension": ".py",
   "mimetype": "text/x-python",
   "name": "python",
   "nbconvert_exporter": "python",
   "pygments_lexer": "ipython3",
   "version": "3.11.7"
  }
 },
 "nbformat": 4,
 "nbformat_minor": 4
}
