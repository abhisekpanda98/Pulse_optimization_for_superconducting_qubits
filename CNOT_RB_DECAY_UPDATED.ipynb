{
 "cells": [
  {
   "cell_type": "code",
   "execution_count": 1,
   "metadata": {},
   "outputs": [],
   "source": [
    "import numpy as np\n",
    "from qutip import *\n",
    "import matplotlib as mpl\n",
    "import matplotlib.pyplot as plt\n",
    "plt.rcParams[\"font.family\"] = \"serif\"\n",
    "plt.rcParams[\"font.serif\"] = [\"Times New Roman\"]\n",
    "from scipy.special import log_softmax\n",
    "from scipy.special import softmax\n",
    "import statistics \n",
    "from numpy import diff\n",
    "import random\n",
    "from scipy.optimize import curve_fit\n",
    "import math\n",
    "from scipy.signal import find_peaks\n",
    "from scipy.integrate import odeint, solve_ivp, RK45\n",
    "from scipy.fft import fft, fftfreq, fftshift\n",
    "from tqdm import tqdm\n",
    "from qutip import Qobj, identity, sigmax, sigmay, sigmaz, tensor\n",
    "from qutip.qip.algorithms import qft\n",
    "import qutip.control.pulseoptim as cpo\n",
    "import qutip.control.pulsegen as pulsegen\n",
    "import math\n",
    "\n",
    "example_name = 'CNOT'"
   ]
  },
  {
   "cell_type": "code",
   "execution_count": 2,
   "metadata": {},
   "outputs": [
    {
     "data": {
      "text/plain": [
       "6"
      ]
     },
     "execution_count": 2,
     "metadata": {},
     "output_type": "execute_result"
    }
   ],
   "source": [
    "\n",
    "math.comb(4,2)"
   ]
  },
  {
   "cell_type": "code",
   "execution_count": 3,
   "metadata": {},
   "outputs": [],
   "source": [
    "cnot_data = np.loadtxt('F_0.9994044301600786_1amp_CNOT_n_ts_250_5_level.txt')\n",
    "cnot_control_1 = cnot_data[:,1]\n",
    "cnot_control_2 = cnot_data[:,2]\n",
    "B = [cnot_control_1, cnot_control_2]"
   ]
  },
  {
   "cell_type": "code",
   "execution_count": 4,
   "metadata": {},
   "outputs": [],
   "source": [
    "# no. of levels for each transmon.\n",
    "N = 3\n",
    "\n",
    "# defines a_i.\n",
    "a_1 = tensor(destroy(N), qeye(N))\n",
    "a_2 = tensor(qeye(N), destroy(N))\n",
    "\n",
    "# defines a list of a_i's for all 2 qubits.\n",
    "a = [a_1, a_2]\n",
    "\n",
    "# defines the identity matrix\n",
    "identity_matrix = tensor(qeye(N), qeye(N))\n",
    "# defines the zero matrix\n",
    "zero_ = Qobj(np.zeros((N,N)))\n",
    "zero_matrix = tensor(zero_, zero_)"
   ]
  },
  {
   "cell_type": "code",
   "execution_count": 5,
   "metadata": {},
   "outputs": [],
   "source": [
    "# everything is in units of MHz\n",
    "f_1 = 5.03103*(10**3)\n",
    "f_2 = 4.92672*(10**3)\n",
    "delta_1 = -271\n",
    "delta_2 = -269\n",
    "f = [f_1, f_2]\n",
    "delta = [delta_1, delta_2]\n",
    "J = [[ 0.0, 4.03],[4.03, 0.0]]"
   ]
  },
  {
   "cell_type": "code",
   "execution_count": 6,
   "metadata": {},
   "outputs": [],
   "source": [
    "def Hamiltonian(f, delta, J, N):\n",
    "    \n",
    "    # defines the bare Hamiltonian\n",
    "    H_bare = zero_matrix\n",
    "    for i in range(2):\n",
    "        e = (f[i]-f[1])*(Qobj(a[i]).dag()*Qobj(a[i])) + 0.5*delta[i]*(Qobj(a[i]).dag()*Qobj(a[i]))*((Qobj(a[i]).dag()*Qobj(a[i])) - identity_matrix)\n",
    "        H_bare = H_bare + (2*np.pi)*e\n",
    "       \n",
    "    # defines the interaction Hamiltonian (the spins are labelled 0-5)\n",
    "    H_int = zero_matrix\n",
    "    for i in range(2):\n",
    "        # defines the interaction with the next neighbour on the right of the ith spin - which is the ((i+1) mod 6)-th spin..\n",
    "        p_neighbor_1 = (J[i][(i + 1)%2])*(Qobj(a[i]).dag()*Qobj(a[(i+1)%2]) + Qobj(a[i])*Qobj(a[(i+1)%2]).dag())\n",
    "        H_int = H_int + (2*np.pi)*0.5*(p_neighbor_1) #to prevent double counting, we need to multiply by 0.5.  \n",
    "    \n",
    "    #defines the full Hamiltonian\n",
    "    Ham = H_bare + H_int\n",
    "    return Ham\n",
    "\n",
    "H_d = Hamiltonian(f, delta, J, N)\n",
    "H_c = [ 26.5*(2*np.pi)*Qobj(a[0].dag() + a[0])/2,26.5*(2*np.pi)*Qobj(a[1].dag() + a[1])/2]"
   ]
  },
  {
   "cell_type": "code",
   "execution_count": 7,
   "metadata": {},
   "outputs": [],
   "source": [
    "Ham = Hamiltonian(f, delta, J, N)\n",
    "Ham\n",
    "Hc = [26.5*2*np.pi*Qobj(a[0].dag() + a[0])/2, 26.5*2*np.pi*Qobj(a[1].dag() + a[1])/2]"
   ]
  },
  {
   "cell_type": "code",
   "execution_count": 8,
   "metadata": {},
   "outputs": [],
   "source": [
    "H_array = []\n",
    "steps = len(B[0])\n",
    "delta_t = 0.001\n",
    "\n",
    "for i in range(steps):\n",
    "    H_array.append(Ham + B[0][i]*Hc[0] + B[1][i]*Hc[1]) #for now, the control is just (a + a_dagger) on the 0th qubit."
   ]
  },
  {
   "cell_type": "code",
   "execution_count": 16,
   "metadata": {},
   "outputs": [
    {
     "data": {
      "text/latex": [
       "Quantum object: dims=[[3, 3], [3, 3]], shape=(9, 9), type='oper', dtype=Dense, isherm=False$$\\left(\\begin{array}{cc}1.000 & (-0.002-0.005j) & (-0.006-0.011j) & (-0.009-0.006j) & (0.003-0.006j) & 3.546\\times10^{ -4 } & (0.003+0.004j) & (0.002+0.005j) & 3.694\\times10^{ -5 }\\\\(0.001-0.005j) & (0.999-0.002j) & -0.002 & (-0.024-0.002j) & 0.017 & 0.002 & (0.013-0.004j) & (0.017+0.009j) & -1.738\\times10^{ -5 }\\\\(0.012-0.004j) & 0.003 & (0.769+0.639j) & 0.015 & (-0.012-0.010j) & (-0.012-0.011j) & 0.001 & (0.001+0.002j) & (0.007+0.009j)\\\\(-0.003-0.006j) & -0.017 & 0.015 & (0.002+0.009j) & (0.999+0.002j) & 0.009 & (0.028-0.005j) & 0.002 & -3.027\\times10^{ -6 }\\\\(0.009-0.007j) & (0.024-0.002j) & (-0.012-0.010j) & (0.999+0.002j) & (-0.002+0.008j) & (0.002-0.008j) & (0.022+0.017j) & (-0.007+0.007j) & -2.977\\times10^{ -5 }\\\\5.523\\times10^{ -4 } & 0.001 & (-0.014-0.007j) & (-0.002+0.009j) & (0.007+0.005j) & (-0.888-0.459j) & (0.014-0.023j) & 0.006j & (-0.005+0.006j)\\\\(0.005-0.001j) & (0.007+0.013j) & 7.352\\times10^{ -4 } & (0.028-0.003j) & (0.021+0.019j) & (0.012-0.025j) & (-0.850-0.490j) & (0.169-0.087j) & (-0.003+0.012j)\\\\(0.005-0.003j) & (0.018+0.002j) & 0.002 & -0.005j & (0.001+0.007j) & 0.002j & (-0.019-0.189j) & (-0.875-0.445j) & 0.002j\\\\9.835\\times10^{ -5 } & 1.243\\times10^{ -4 } & (0.003+0.011j) & -2.740\\times10^{ -5 } & 3.597\\times10^{ -4 } & (-0.008+0.002j) & (-0.012-0.003j) & -0.003j & (-0.072-0.997j)\\end{array}\\right)$$"
      ],
      "text/plain": [
       "Quantum object: dims=[[3, 3], [3, 3]], shape=(9, 9), type='oper', dtype=Dense, isherm=False\n",
       "Qobj data =\n",
       "[[ 1.00000000e+00+0.00000000e+00j -1.61320438e-03-5.14279363e-03j\n",
       "  -6.20561649e-03-1.08018324e-02j -9.20939491e-03-6.48946277e-03j\n",
       "   2.61300896e-03-6.16242830e-03j  3.54588299e-04+6.99541078e-04j\n",
       "   3.09658596e-03+4.17775045e-03j  2.09008506e-03+4.56167290e-03j\n",
       "   3.69364827e-05-1.08533755e-04j]\n",
       " [ 1.20008336e-03-4.95348541e-03j  9.99461100e-01-1.67908278e-03j\n",
       "  -2.22375465e-03-7.12543655e-04j -2.44418941e-02-1.51384095e-03j\n",
       "   1.68076966e-02-3.42031528e-04j  1.61423260e-03+7.58212317e-04j\n",
       "   1.33278337e-02-4.48597880e-03j  1.68038711e-02+9.29811505e-03j\n",
       "  -1.73779187e-05-5.85678221e-05j]\n",
       " [ 1.17851129e-02-4.35930054e-03j  2.67498075e-03+9.33293388e-04j\n",
       "   7.69192782e-01+6.38534575e-01j  1.50314261e-02+1.39964445e-05j\n",
       "  -1.18009855e-02-9.71776696e-03j -1.22258976e-02-1.05790185e-02j\n",
       "   1.22705884e-03+5.14367912e-04j  1.03130360e-03+1.85390136e-03j\n",
       "   7.29225446e-03+8.85890146e-03j]\n",
       " [-2.52684332e-03-6.02712842e-03j -1.71721435e-02-1.63317672e-04j\n",
       "   1.54420324e-02+4.95829708e-05j  1.96801322e-03+8.83827432e-03j\n",
       "   9.99420221e-01+2.23468306e-03j  8.79380310e-03-5.15957452e-05j\n",
       "   2.83465878e-02-4.60372085e-03j  1.61291153e-03-5.64418855e-04j\n",
       "  -3.02728816e-06+1.61021887e-05j]\n",
       " [ 8.97166175e-03-6.53704253e-03j  2.42315314e-02-2.17656594e-03j\n",
       "  -1.17470967e-02-9.73400453e-03j  9.99227983e-01+2.31519088e-03j\n",
       "  -1.96793427e-03+8.34288380e-03j  2.41029354e-03-8.05202342e-03j\n",
       "   2.16574963e-02+1.71333766e-02j -6.57235917e-03+6.98646393e-03j\n",
       "  -2.97747649e-05-5.41683599e-04j]\n",
       " [ 5.52307023e-04-1.97898489e-04j  1.23729531e-03+3.53566150e-04j\n",
       "  -1.42833887e-02-7.21381936e-03j -1.80549211e-03+9.15570962e-03j\n",
       "   7.45520240e-03+4.76302512e-03j -8.88111616e-01-4.58710818e-01j\n",
       "   1.35858661e-02-2.32137481e-02j  6.74749641e-04+6.08909388e-03j\n",
       "  -5.33164745e-03+6.17570459e-03j]\n",
       " [ 5.12082491e-03-1.47884329e-03j  7.44120270e-03+1.29489377e-02j\n",
       "   7.35164437e-04+6.75123588e-04j  2.80097658e-02-3.45372736e-03j\n",
       "   2.14634436e-02+1.85460578e-02j  1.24276351e-02-2.47870521e-02j\n",
       "  -8.49530508e-01-4.89757381e-01j  1.68672578e-01-8.72670793e-02j\n",
       "  -2.62360192e-03+1.22134654e-02j]\n",
       " [ 4.76814855e-03-2.74081554e-03j  1.82258214e-02+1.64136902e-03j\n",
       "   1.85966664e-03+5.73509640e-04j  5.06931291e-04-5.34028334e-03j\n",
       "   1.13168880e-03+6.64361911e-03j -2.04074058e-04+2.21412776e-03j\n",
       "  -1.86312004e-02-1.89228082e-01j -8.75277667e-01-4.44624530e-01j\n",
       "   9.02148250e-04+1.89723397e-03j]\n",
       " [ 9.83540253e-05+4.41955001e-05j  1.24285021e-04+1.56752426e-04j\n",
       "   2.85995725e-03+1.11361565e-02j -2.74006830e-05+2.25980637e-05j\n",
       "   3.59733002e-04-3.15386296e-05j -7.75815414e-03+1.95463064e-03j\n",
       "  -1.18518844e-02-3.49864838e-03j  3.82964581e-04-3.12397141e-03j\n",
       "  -7.18549067e-02-9.97440068e-01j]]"
      ]
     },
     "execution_count": 16,
     "metadata": {},
     "output_type": "execute_result"
    }
   ],
   "source": [
    "SCALING=1\n",
    "U_cnot = [(-SCALING*1j*h*delta_t).expm() for h in H_array] # the unitary evolution operator for each time step.\n",
    "Total_Ucnot = identity_matrix # the total unitary evolution operator (U). It is initialised to the identity matrix.\n",
    "for i in range(steps):\n",
    "    Total_Ucnot = U_cnot[i]*Total_Ucnot # at each step, we multiply the total U with the unitary evolution operator for that time step.[Time-ordered product]\n",
    "Total_Ucnot/Total_Ucnot[0,0] # normalising the total unitary evolution operator."
   ]
  },
  {
   "cell_type": "code",
   "execution_count": 17,
   "metadata": {},
   "outputs": [],
   "source": [
    "# from qutip.qip.operations import swap,cnot\n",
    "# SWAP = swap().full()\n",
    "# SWAP = Qobj(SWAP)\n",
    "# CNOT = cnot().full()\n",
    "# CNOT = Qobj(CNOT)"
   ]
  },
  {
   "cell_type": "code",
   "execution_count": 18,
   "metadata": {},
   "outputs": [
    {
     "data": {
      "text/latex": [
       "Quantum object: dims=[[9], [9]], shape=(9, 9), type='oper', dtype=Dense, isherm=True$$\\left(\\begin{array}{cc}1 & 0 & 0 & 0 & 0 & 0 & 0 & 0 & 0\\\\0 & 0 & 0 & 1 & 0 & 0 & 0 & 0 & 0\\\\0 & 0 & 1 & 0 & 0 & 0 & 0 & 0 & 0\\\\0 & 1 & 0 & 0 & 0 & 0 & 0 & 0 & 0\\\\0 & 0 & 0 & 0 & 1 & 0 & 0 & 0 & 0\\\\0 & 0 & 0 & 0 & 0 & 1 & 0 & 0 & 0\\\\0 & 0 & 0 & 0 & 0 & 0 & 1 & 0 & 0\\\\0 & 0 & 0 & 0 & 0 & 0 & 0 & 1 & 0\\\\0 & 0 & 0 & 0 & 0 & 0 & 0 & 0 & 1\\end{array}\\right)$$"
      ],
      "text/plain": [
       "Quantum object: dims=[[9], [9]], shape=(9, 9), type='oper', dtype=Dense, isherm=True\n",
       "Qobj data =\n",
       "[[1. 0. 0. 0. 0. 0. 0. 0. 0.]\n",
       " [0. 0. 0. 1. 0. 0. 0. 0. 0.]\n",
       " [0. 0. 1. 0. 0. 0. 0. 0. 0.]\n",
       " [0. 1. 0. 0. 0. 0. 0. 0. 0.]\n",
       " [0. 0. 0. 0. 1. 0. 0. 0. 0.]\n",
       " [0. 0. 0. 0. 0. 1. 0. 0. 0.]\n",
       " [0. 0. 0. 0. 0. 0. 1. 0. 0.]\n",
       " [0. 0. 0. 0. 0. 0. 0. 1. 0.]\n",
       " [0. 0. 0. 0. 0. 0. 0. 0. 1.]]"
      ]
     },
     "execution_count": 18,
     "metadata": {},
     "output_type": "execute_result"
    }
   ],
   "source": [
    "CNOT = np.identity(N**2)\n",
    "CNOT[N][N] = 0\n",
    "CNOT[N+1][N+1] = 0\n",
    "CNOT[N][N+1] = 1\n",
    "CNOT[N+1][N] = 1\n",
    "CNOT = Qobj(CNOT)\n",
    "\n",
    "SWAP = np.identity(N**2)\n",
    "SWAP[1][N] = 1\n",
    "SWAP[N][N] = 0\n",
    "SWAP[1][1] = 0\n",
    "SWAP[N][1] = 1\n",
    "SWAP = Qobj(SWAP)\n",
    "\n",
    "SWAP"
   ]
  },
  {
   "cell_type": "code",
   "execution_count": 19,
   "metadata": {},
   "outputs": [
    {
     "data": {
      "text/plain": [
       "['mX90', 'Y90', 'mX90']"
      ]
     },
     "execution_count": 19,
     "metadata": {},
     "output_type": "execute_result"
    }
   ],
   "source": [
    "tim=[0.001,\n",
    "     0.104,\n",
    "     0.104,\n",
    "     0.208,\n",
    "     0.104,\n",
    "     0.104,\n",
    "     0.104,\n",
    "     0.104,\n",
    "     0.104,\n",
    "     0.104,\n",
    "     0.104,\n",
    "     0.104,\n",
    "     0.052,\n",
    "     0.052,\n",
    "     0.052,\n",
    "     0.052,\n",
    "     0.156,\n",
    "     0.156,\n",
    "     0.156,\n",
    "     0.156,\n",
    "     0.156,\n",
    "     0.156,\n",
    "     0.156,\n",
    "     0.156]\n",
    "\n",
    "cllist=[['I'],\n",
    "['X180'],\n",
    "['Y180'],\n",
    "['Y180','X180'],\n",
    "['X90','Y90'],\n",
    "['X90','mY90'],\n",
    "['mX90','Y90'],\n",
    "['mX90','mY90'],\n",
    "['Y90','X90'],\n",
    "['Y90','mX90'],\n",
    "['mY90','X90'],\n",
    "['mY90','mX90'],\n",
    "['X90'],\n",
    "['Y90'],\n",
    "['mY90'],\n",
    "['mX90'],\n",
    "['mX90','Y90','X90'],\n",
    "['mX90','mY90','X90'],\n",
    "['X180','Y90'],\n",
    "['X180','mY90'],\n",
    "['Y180','X90'],\n",
    "['Y180','mX90'],\n",
    "['X90','Y90','X90'],\n",
    "['mX90','Y90','mX90']]\n",
    "\n",
    "# cl1=[qeye(N**2),\n",
    "#      X180,\n",
    "#      Y180,\n",
    "#      Y180*X180,\n",
    "#      X90*Y90,\n",
    "#      X90*mY90,\n",
    "#      mX90*Y90,\n",
    "#      mX90*mY90,\n",
    "#      Y90*X90,\n",
    "#      Y90*mX90,\n",
    "#      mY90*X90,\n",
    "#      mY90*mX90,\n",
    "#      X90,\n",
    "#      Y90,\n",
    "#      mY90,\n",
    "#      mX90,\n",
    "#      mX90*Y90*X90,\n",
    "#      mX90*mY90*X90,\n",
    "#      X180*Y90,\n",
    "#      X180*mY90,\n",
    "#      Y180*X90,\n",
    "#      Y180*mX90,\n",
    "#      X90*Y90*X90,\n",
    "#      mX90*Y90*mX90]\n",
    "\n",
    "# cl2=[qeye(N**2),\n",
    "#      SWAP*X180*SWAP,\n",
    "#      SWAP*Y180*SWAP,\n",
    "#      SWAP*Y180*X180*SWAP,\n",
    "#      SWAP*X90*Y90*SWAP,\n",
    "#      SWAP*X90*mY90*SWAP,\n",
    "#      SWAP*mX90*Y90*SWAP,\n",
    "#      SWAP*mX90*mY90*SWAP,\n",
    "#      SWAP*Y90*X90*SWAP,\n",
    "#      SWAP*Y90*mX90*SWAP,\n",
    "#      SWAP*mY90*X90*SWAP,\n",
    "#      SWAP*mY90*mX90*SWAP,\n",
    "#      SWAP*X90*SWAP,\n",
    "#      SWAP*Y90*SWAP,\n",
    "#      SWAP*mY90*SWAP,\n",
    "#      SWAP*mX90*SWAP,\n",
    "#      SWAP*mX90*Y90*X90*SWAP,\n",
    "#      SWAP*mX90*mY90*X90*SWAP,\n",
    "#      SWAP*X180*Y90*SWAP,\n",
    "#      SWAP*X180*mY90*SWAP,\n",
    "#      SWAP*Y180*X90*SWAP,\n",
    "#      SWAP*Y180*mX90*SWAP,\n",
    "#      SWAP*X90*Y90*X90*SWAP,\n",
    "#      SWAP*mX90*Y90*mX90*SWAP]\n",
    "cllist[23]"
   ]
  },
  {
   "cell_type": "code",
   "execution_count": 20,
   "metadata": {},
   "outputs": [],
   "source": [
    "def Hamiltoniand(f, delta, J, N):\n",
    "    \n",
    "    # defines the bare Hamiltonian\n",
    "    H_bare = zero_matrix\n",
    "    for i in range(2):\n",
    "        e = (f[i]-f[i])*(Qobj(a[i]).dag()*Qobj(a[i])) + 0.5*delta[i]*(Qobj(a[i]).dag()*Qobj(a[i]))*((Qobj(a[i]).dag()*Qobj(a[i])) - identity_matrix)\n",
    "        H_bare = H_bare + (2*np.pi)*e\n",
    "       \n",
    "    # defines the interaction Hamiltonian (the spins are labelled 0-5)\n",
    "    H_int = zero_matrix\n",
    "    for i in range(2):\n",
    "        # defines the interaction with the next neighbour on the right of the ith spin - which is the ((i+1) mod 6)-th spin..\n",
    "        p_neighbor_1 = (J[i][(i + 1)%2])*(Qobj(a[i]).dag()*Qobj(a[(i+1)%2]) + Qobj(a[i])*Qobj(a[(i+1)%2]).dag())\n",
    "        H_int = H_int + 0*(2*np.pi)*0.5*(p_neighbor_1) #to prevent double counting, we need to multiply by 0.5.  \n",
    "    \n",
    "    #defines the full Hamiltonian\n",
    "    Ham = H_bare + H_int\n",
    "    return Ham\n",
    "\n",
    "H_dd = Hamiltoniand(f, delta, J, N)"
   ]
  },
  {
   "cell_type": "code",
   "execution_count": 21,
   "metadata": {},
   "outputs": [
    {
     "name": "stdout",
     "output_type": "stream",
     "text": [
      "[0.04204232188477656, 0.11428287960561416, 0.2779845853419365, 0.6050695690109885, 1.1785145967689838, 2.0540436957295434, 3.2035348129708674, 4.470892989177985, 5.583469652962478, 6.239633806927085, 6.3269, 6.3269, 6.3269, 6.3269, 6.3269, 6.3269, 6.3269, 6.3269, 6.3269, 6.3269, 6.3269, 6.3269, 6.3269, 6.3269, 6.3269, 6.3269, 6.3269, 6.3269, 6.3269, 6.3269, 6.3269, 6.3269, 6.3269, 6.3269, 6.3269, 6.3269, 6.3269, 6.3269, 6.3269, 6.3269, 6.3269, 6.3269, 6.239633806927085, 5.583469652962478, 4.470892989177985, 3.2035348129708674, 2.0540436957295434, 1.1785145967689838, 0.6050695690109885, 0.2779845853419365, 0.11428287960561416, 0.04204232188477656] 52\n"
     ]
    }
   ],
   "source": [
    "ggg50=((6.3269/0.1936)*np.array([0.0012864741843387347, 0.0034969993980696547, 0.008506190349491677, 0.018514828519579474, 0.036061961771874894, 0.06285271768057651, 0.09802657538307226, 0.13680710659325385, 0.17085140034037768, 0.1909296978016222, 0.1936, 0.1936, 0.1936, 0.1936, 0.1936, 0.1936, 0.1936, 0.1936, 0.1936, 0.1936, 0.1936, 0.1936, 0.1936, 0.1936, 0.1936, 0.1936, 0.1936, 0.1936, 0.1936, 0.1936, 0.1936, 0.1936, 0.1936, 0.1936, 0.1936, 0.1936, 0.1936, 0.1936, 0.1936, 0.1936, 0.1936, 0.1936, 0.1909296978016222, 0.17085140034037768, 0.13680710659325385, 0.09802657538307226, 0.06285271768057651, 0.036061961771874894, 0.018514828519579474, 0.008506190349491677, 0.0034969993980696547, 0.0012864741843387347])\n",
    "      ).tolist()\n",
    "print(ggg50,len(ggg50))"
   ]
  },
  {
   "cell_type": "code",
   "execution_count": 22,
   "metadata": {},
   "outputs": [
    {
     "name": "stdout",
     "output_type": "stream",
     "text": [
      "[0.0363060690550403, 0.09869012777509532, 0.24005637888699896, 0.5225138995848582, 1.017718109145653, 1.7737900505021866, 2.7664446425843274, 3.8608845165035337, 4.8216612617815455, 5.388298403054832, 5.463658, 5.463658, 5.463658, 5.463658, 5.463658, 5.463658, 5.463658, 5.463658, 5.463658, 5.463658, 5.463658, 5.463658, 5.463658, 5.463658, 5.463658, 5.463658, 5.463658, 5.463658, 5.463658, 5.463658, 5.463658, 5.463658, 5.463658, 5.463658, 5.463658, 5.463658, 5.463658, 5.463658, 5.463658, 5.463658, 5.463658, 5.463658, 5.463658, 5.463658, 5.463658, 5.463658, 5.463658, 5.463658, 5.463658, 5.463658, 5.463658, 5.463658, 5.463658, 5.463658, 5.463658, 5.463658, 5.463658, 5.463658, 5.463658, 5.463658, 5.463658, 5.463658, 5.463658, 5.463658, 5.463658, 5.463658, 5.463658, 5.463658, 5.463658, 5.463658, 5.463658, 5.463658, 5.463658, 5.463658, 5.463658, 5.463658, 5.463658, 5.463658, 5.463658, 5.463658, 5.463658, 5.463658, 5.463658, 5.463658, 5.463658, 5.463658, 5.463658, 5.463658, 5.463658, 5.463658, 5.463658, 5.463658, 5.463658, 5.463658, 5.388298403054832, 4.8216612617815455, 3.8608845165035337, 2.7664446425843274, 1.7737900505021866, 1.017718109145653, 0.5225138995848582, 0.24005637888699896, 0.09869012777509532, 0.0363060690550403] 104\n"
     ]
    }
   ],
   "source": [
    "ggg100=((5.463658/0.1936)*np.array([0.0012864741843387347, 0.0034969993980696547, 0.008506190349491677, 0.018514828519579474, 0.036061961771874894, 0.06285271768057651, 0.09802657538307226, 0.13680710659325385, 0.17085140034037768, 0.1909296978016222, 0.1936, 0.1936, 0.1936, 0.1936, 0.1936, 0.1936, 0.1936, 0.1936, 0.1936, 0.1936, 0.1936, 0.1936, 0.1936, 0.1936, 0.1936, 0.1936, 0.1936, 0.1936, 0.1936, 0.1936, 0.1936, 0.1936, 0.1936, 0.1936, 0.1936, 0.1936, 0.1936, 0.1936, 0.1936, 0.1936, 0.1936, 0.1936, 0.1936, 0.1936, 0.1936, 0.1936, 0.1936, 0.1936, 0.1936, 0.1936, 0.1936, 0.1936, 0.1936, 0.1936, 0.1936, 0.1936, 0.1936, 0.1936, 0.1936, 0.1936, 0.1936, 0.1936, 0.1936, 0.1936, 0.1936, 0.1936, 0.1936, 0.1936, 0.1936, 0.1936, 0.1936, 0.1936, 0.1936, 0.1936, 0.1936, 0.1936, 0.1936, 0.1936, 0.1936, 0.1936, 0.1936, 0.1936, 0.1936, 0.1936, 0.1936, 0.1936, 0.1936, 0.1936, 0.1936, 0.1936, 0.1936, 0.1936, 0.1936, 0.1936, 0.1909296978016222, 0.17085140034037768, 0.13680710659325385, 0.09802657538307226, 0.06285271768057651, 0.036061961771874894, 0.018514828519579474, 0.008506190349491677, 0.0034969993980696547, 0.0012864741843387347])\n",
    "       ).tolist()\n",
    "print(ggg100,len(ggg100))"
   ]
  },
  {
   "cell_type": "code",
   "execution_count": 23,
   "metadata": {},
   "outputs": [],
   "source": [
    "def gamma1(t):\n",
    "    return(1-np.exp(-t/T1_1))\n",
    "def gamma2(t):\n",
    "    return(1-np.exp(-t/T1_2))\n",
    "def lam1(t):\n",
    "    return(1-np.exp(-2*t/T2star_1))\n",
    "def lam2(t):\n",
    "    return(1-np.exp(-2*t/T2star_2))"
   ]
  },
  {
   "cell_type": "code",
   "execution_count": 24,
   "metadata": {},
   "outputs": [],
   "source": [
    "def AD(t):\n",
    "    AD1=[]\n",
    "    AD2=[]\n",
    "    for i in range(N):\n",
    "        sum1=Qobj(np.zeros([N,N]))\n",
    "        sum2=Qobj(np.zeros([N,N]))\n",
    "        for j in range(i,N):\n",
    "            sum1=sum1+np.sqrt(math.comb(j,i)*((1-gamma1(t))**(j-i))*gamma1(t)**i)*basis(N,j-i)*basis(N,j).dag()\n",
    "            sum2=sum2+np.sqrt(math.comb(j,i)*((1-gamma2(t))**(j-i))*gamma2(t)**i)*basis(N,j-i)*basis(N,j).dag()\n",
    "        AD1.append(tensor(sum1,qeye(N)))\n",
    "        AD2.append(tensor(qeye(N),sum2))\n",
    "    return([AD1,AD2])"
   ]
  },
  {
   "cell_type": "code",
   "execution_count": 25,
   "metadata": {},
   "outputs": [],
   "source": [
    "def PD(t):\n",
    "    PD1=[]\n",
    "    PD2=[]\n",
    "    som1=np.identity(N)\n",
    "    som1[1][1]=np.sqrt(1-lam1(t))\n",
    "    som1[2][2]=np.sqrt(1-lam1(4*t))\n",
    "    som2=np.identity(N)\n",
    "    som2[1][1]=np.sqrt(1-lam2(t))\n",
    "    som2[2][2]=np.sqrt(1-lam2(4*t))\n",
    "    PD1.append(tensor(Qobj(som1),qeye(N)))\n",
    "    PD2.append(tensor(qeye(N),Qobj(som2)))\n",
    "\n",
    "    som1=np.zeros([N,N])\n",
    "    som1[1][1]=np.sqrt(lam1(t))\n",
    "    som2=np.zeros([N,N])\n",
    "    som2[1][1]=np.sqrt(lam2(t))\n",
    "    PD1.append(tensor(Qobj(som1),qeye(N)))\n",
    "    PD2.append(tensor(qeye(N),Qobj(som2)))\n",
    "\n",
    "    som1=np.zeros([N,N])\n",
    "    som1[2][2]=np.sqrt(lam1(4*t))\n",
    "    som2=np.zeros([N,N])\n",
    "    som2[2][2]=np.sqrt(lam2(4*t))\n",
    "    PD1.append(tensor(Qobj(som1),qeye(N)))\n",
    "    PD2.append(tensor(qeye(N),Qobj(som2)))\n",
    "    return([PD1,PD2])"
   ]
  },
  {
   "cell_type": "code",
   "execution_count": 26,
   "metadata": {},
   "outputs": [],
   "source": [
    "# for i in range(111):\n",
    "#     c1=np.random.choice(cl1,1)[0]\n",
    "#     c2=np.random.choice(cl2,1)[0]\n",
    "#     E0=c1 * c2 * Ucnot *E0*(c1*c2 * Ucnot).dag()\n",
    "#     E0=Qobj(PD(0.3)[0][0].full())*E0*Qobj(((PD(0.3)[0][0]).dag()).full())+Qobj(PD(0.3)[0][1].full())*E0*Qobj(((PD(0.3)[0][1]).dag()).full())\n",
    "#     E0=Qobj(PD(0.3)[1][0].full())*E0*Qobj(((PD(0.3)[1][0]).dag()).full())+Qobj(PD(0.3)[1][1].full())*E0*Qobj(((PD(0.3)[1][1]).dag()).full())\n",
    "#     print(E0.tr())"
   ]
  },
  {
   "cell_type": "code",
   "execution_count": 27,
   "metadata": {},
   "outputs": [],
   "source": [
    "def MAP(rho,t):\n",
    "    A=AD(t)\n",
    "    P=PD(t)\n",
    "    for i in range(len(A)):\n",
    "        sum = Qobj(np.zeros([N**2,N**2]))\n",
    "        for j in range(len(A[i])):\n",
    "            sum = sum + Qobj(A[i][j].full())*rho*Qobj(((A[i][j]).dag()).full())\n",
    "        rho = sum\n",
    "    for i in range(len(P)):\n",
    "        sum = Qobj(np.zeros([N**2,N**2]))\n",
    "        for j in range(len(P[i])):\n",
    "            sum= sum + Qobj(P[i][j].full())*rho*Qobj(((P[i][j]).dag()).full())\n",
    "        rho = sum\n",
    "    #print(rho.tr())\n",
    "    return(rho)"
   ]
  },
  {
   "cell_type": "code",
   "execution_count": 28,
   "metadata": {},
   "outputs": [],
   "source": [
    "# everything is in units of MHz\n",
    "f_1 = 5.03103*(10**3)\n",
    "f_2 = 4.92672*(10**3)\n",
    "f_3 = 5.03648*(10**3)\n",
    "f_4 = 4.96961*(10**3)\n",
    "f_5 = 4.83780*(10**3)\n",
    "f_6 = 4.92466*(10**3)\n",
    "delta_1 = -271\n",
    "delta_2 = -269\n",
    "delta_3 = -268\n",
    "delta_4 = -269\n",
    "delta_5 = -280\n",
    "delta_6 = -271\n",
    "# all the times (T) are in microseconds. Therefore, 1/T would be in MHz. [NOT INCLUDED rn.]\n",
    "T1_1 = 44\n",
    "T1_2 = 30\n",
    "T1_3 = 25\n",
    "T1_4 = 37\n",
    "T1_5 = 1.6\n",
    "T1_6 = 57\n",
    "T2star_1 = 35\n",
    "T2star_2 = 21\n",
    "T2star_3 = 11\n",
    "T2star_4 = 28\n",
    "T2star_5 = 2.2\n",
    "T2star_6 = 26\n",
    "T2_1 = 40\n",
    "T2_2 = 42\n",
    "T2_3 = 27\n",
    "T2_4 = 30\n",
    "T2_5 = 2\n",
    "T2_6 = 28\n"
   ]
  },
  {
   "cell_type": "code",
   "execution_count": 29,
   "metadata": {},
   "outputs": [],
   "source": [
    "from scipy.linalg import expm\n",
    "def uni_evo(st,p1,p2,h1,h2,t):\n",
    "    ut=qeye(N**2)\n",
    "    for i in range(len(p1)):\n",
    "        u1=Qobj(expm(-0.001*1j*(H_dd.full()+p1[i]*h1[i].full()+p2[i]*h2[i].full())))\n",
    "        ut=u1*ut\n",
    "        st=MAP(u1*st*u1.dag(),0.001*t)\n",
    "    #print(ut)\n",
    "    return([st,ut])"
   ]
  },
  {
   "cell_type": "code",
   "execution_count": 30,
   "metadata": {},
   "outputs": [],
   "source": [
    "def make_pulse(n,m,t,sta):\n",
    "    l=int(max(tim[n],tim[m])*1000)\n",
    "    pul1=np.zeros(l)\n",
    "    pul2=np.zeros(l)\n",
    "    tpul1=[]\n",
    "    tpul2=[]\n",
    "    ham1=[]\n",
    "    ham2=[]\n",
    "    for i in cllist[n]:\n",
    "        if i=='I':\n",
    "            tpul1=tpul1+[1]\n",
    "            ham1=ham1+[(0)*Qobj(a[0].dag() + a[0])/2]\n",
    "        elif i=='X90':\n",
    "            tpul1=tpul1+ggg50\n",
    "            ham1=ham1+[(2*np.pi)*Qobj(a[0].dag() + a[0])/2]*len(ggg50)\n",
    "        elif i=='Y90':\n",
    "            tpul1=tpul1+ggg50\n",
    "            ham1=ham1+[(2*np.pi)*Qobj(-a[0].dag() + a[0])/(2*1j)]*len(ggg50)\n",
    "        elif i=='mX90':\n",
    "            tpul1=tpul1+ggg50\n",
    "            ham1=ham1+[(-2*np.pi)*Qobj(a[0].dag() + a[0])/2]*len(ggg50)\n",
    "        elif i=='mY90':\n",
    "            tpul1=tpul1+ggg50\n",
    "            ham1=ham1+[(-2*np.pi)*Qobj(-a[0].dag() + a[0])/(2*1j)]*len(ggg50)\n",
    "        elif i=='X180':\n",
    "            tpul1=tpul1+ggg100\n",
    "            ham1=ham1+[(2*np.pi)*Qobj(a[0].dag() + a[0])/2]*len(ggg100)\n",
    "        elif i=='Y180':\n",
    "            tpul1=tpul1+ggg100\n",
    "            ham1=ham1+[(2*np.pi)*Qobj(-a[0].dag() + a[0])/(2*1j)]*len(ggg100)\n",
    "        elif i=='mX180':\n",
    "            tpul1=tpul1+ggg100\n",
    "            ham1=ham1+[(-2*np.pi)*Qobj(a[0].dag() + a[0])/2]*len(ggg100)\n",
    "        elif i=='mY180':\n",
    "            tpul1=tpul1+ggg100\n",
    "            ham1=ham1+[(-2*np.pi)*Qobj(-a[0].dag() + a[0])/(2*1j)]*len(ggg100)\n",
    "    for i in cllist[m]:\n",
    "        if i=='I':\n",
    "            tpul2=tpul2+[1]\n",
    "            ham2=ham2+[(0)*Qobj(a[0].dag() + a[0])/2]\n",
    "        elif i=='X90':\n",
    "            tpul2=tpul2+ggg50\n",
    "            ham2=ham2+[(2*np.pi)*Qobj(a[1].dag() + a[1])/2]*len(ggg50)\n",
    "        elif i=='Y90':\n",
    "            tpul2=tpul2+ggg50\n",
    "            ham2=ham2+[(2*np.pi)*Qobj(-a[1].dag() + a[1])/(2*1j)]*len(ggg50)\n",
    "        elif i=='mX90':\n",
    "            tpul2=tpul2+ggg50\n",
    "            ham2=ham2+[(-2*np.pi)*Qobj(a[1].dag() + a[1])/2]*len(ggg50)\n",
    "        elif i=='mY90':\n",
    "            tpul2=tpul2+ggg50\n",
    "            ham2=ham2+[(-2*np.pi)*Qobj(-a[1].dag() + a[1])/(2*1j)]*len(ggg50)\n",
    "        elif i=='X180':\n",
    "            tpul2=tpul2+ggg100\n",
    "            ham2=ham2+[(2*np.pi)*Qobj(a[1].dag() + a[1])/2]*len(ggg100)\n",
    "        elif i=='Y180':\n",
    "            tpul2=tpul2+ggg100\n",
    "            ham2=ham2+[(2*np.pi)*Qobj(-a[1].dag() + a[1])/(2*1j)]*len(ggg100)\n",
    "        elif i=='mX180':\n",
    "            tpul2=tpul2+ggg100\n",
    "            ham2=ham2+[(-2*np.pi)*Qobj(a[1].dag() + a[1])/2]*len(ggg100)\n",
    "        elif i=='mY180':\n",
    "            tpul2=tpul2+ggg100\n",
    "            ham2=ham2+[(-2*np.pi)*Qobj(-a[1].dag() + a[1])/(2*1j)]*len(ggg100)\n",
    "    for i in range(len(tpul1)):\n",
    "        pul1[i]=tpul1[i]\n",
    "    for i in range(len(tpul2)):\n",
    "        pul2[i]=tpul2[i]\n",
    "    if len(ham1)<len(ham2):\n",
    "        ham1=ham1+[(0)*Qobj(-a[1].dag() + a[1])/(2*1j)]*(len(ham2)-len(ham1))\n",
    "    if len(ham2)<len(ham1):\n",
    "        ham2=ham2+[(0)*Qobj(-a[1].dag() + a[1])/(2*1j)]*(len(ham1)-len(ham2))\n",
    "    #print([pul1,pul2,ham1,ham2])\n",
    "    return([uni_evo(sta,pul1,pul2,ham1,ham2,t),pul1,pul2,ham1,ham2])"
   ]
  },
  {
   "cell_type": "code",
   "execution_count": 25,
   "metadata": {},
   "outputs": [
    {
     "data": {
      "text/latex": [
       "Quantum object: dims=[[9], [9]], shape=(9, 9), type='oper', dtype=Dense, isherm=True$$\\left(\\begin{array}{cc}8.459\\times10^{ -4 } & -9.419\\times10^{ -6 } & 5.334\\times10^{ -7 } & -0.005 & -0.005j & -3.321\\times10^{ -6 } & -5.569\\times10^{ -7 } & -3.079\\times10^{ -6 } & -1.611\\times10^{ -9 }\\\\-9.419\\times10^{ -6 } & 8.402\\times10^{ -4 } & 3.351\\times10^{ -7 } & 0.005j & -0.005 & -1.757\\times10^{ -6 } & 3.091\\times10^{ -6 } & -5.531\\times10^{ -7 } & 1.746\\times10^{ -9 }\\\\5.334\\times10^{ -7 } & 3.351\\times10^{ -7 } & 1.971\\times10^{ -9 } & -3.019\\times10^{ -6 } & -2.227\\times10^{ -6 } & -1.171\\times10^{ -8 } & 9.087\\times10^{ -10 } & -2.187\\times10^{ -9 } & -1.297\\times10^{ -12 }\\\\-0.005 & -0.005j & -3.019\\times10^{ -6 } & 0.501 & (-0.006+0.497j) & 3.158\\times10^{ -4 } & 7.618\\times10^{ -5 } & 3.000\\times10^{ -4 } & 1.709\\times10^{ -7 }\\\\0.005j & -0.005 & -2.227\\times10^{ -6 } & (-0.006-0.497j) & 0.497 & 1.984\\times10^{ -4 } & -3.017\\times10^{ -4 } & 7.566\\times10^{ -5 } & -1.616\\times10^{ -7 }\\\\-3.321\\times10^{ -6 } & -1.757\\times10^{ -6 } & -1.171\\times10^{ -8 } & 3.158\\times10^{ -4 } & 1.984\\times10^{ -4 } & 1.167\\times10^{ -6 } & -7.484\\times10^{ -8 } & 2.220\\times10^{ -7 } & 1.775\\times10^{ -10 }\\\\-5.569\\times10^{ -7 } & 3.091\\times10^{ -6 } & 9.087\\times10^{ -10 } & 7.618\\times10^{ -5 } & -3.017\\times10^{ -4 } & -7.484\\times10^{ -8 } & 1.497\\times10^{ -6 } & -1.666\\times10^{ -8 } & 9.437\\times10^{ -10 }\\\\-3.079\\times10^{ -6 } & -5.531\\times10^{ -7 } & -2.187\\times10^{ -9 } & 3.000\\times10^{ -4 } & 7.566\\times10^{ -5 } & 2.220\\times10^{ -7 } & -1.666\\times10^{ -8 } & 1.486\\times10^{ -6 } & 5.929\\times10^{ -10 }\\\\-1.611\\times10^{ -9 } & 1.746\\times10^{ -9 } & -1.297\\times10^{ -12 } & 1.709\\times10^{ -7 } & -1.616\\times10^{ -7 } & 1.775\\times10^{ -10 } & 9.437\\times10^{ -10 } & 5.929\\times10^{ -10 } & 3.487\\times10^{ -12 }\\end{array}\\right)$$"
      ],
      "text/plain": [
       "Quantum object: dims=[[9], [9]], shape=(9, 9), type='oper', dtype=Dense, isherm=True\n",
       "Qobj data =\n",
       "[[ 8.45940410e-04-1.51528652e-18j -9.41894315e-06+8.38913391e-04j\n",
       "   5.33357637e-07+3.42579843e-07j -5.02775456e-03+3.71901962e-04j\n",
       "  -3.12832203e-04-4.99013110e-03j -3.32056180e-06-1.80160517e-06j\n",
       "  -5.56924983e-07+3.11089722e-06j -3.07885480e-06-5.86936366e-07j\n",
       "  -1.61095375e-09+1.73585456e-09j]\n",
       " [-9.41894315e-06-8.38913391e-04j  8.40173045e-04-1.90146815e-18j\n",
       "   3.35112861e-07-5.34745741e-07j  4.24793125e-04+4.98184938e-03j\n",
       "  -4.99347685e-03+3.69366447e-04j -1.75661572e-06+3.32552912e-06j\n",
       "   3.09125672e-06+5.17661122e-07j -5.53128038e-07+3.08968807e-06j\n",
       "   1.74587512e-09+1.58440821e-09j]\n",
       " [ 5.33357637e-07-3.42579843e-07j  3.35112861e-07+5.34745741e-07j\n",
       "   1.97075814e-09+2.58508265e-20j -3.01934409e-06+2.27056669e-06j\n",
       "  -2.22679775e-06-3.03087685e-06j -1.17129861e-08+8.66407151e-10j\n",
       "   9.08681604e-10+2.18692953e-09j -2.18711831e-09+8.80308347e-10j\n",
       "  -1.29744889e-12+7.24734976e-12j]\n",
       " [-5.02775456e-03-3.71901962e-04j  4.24793125e-04-4.98184938e-03j\n",
       "  -3.01934409e-06-2.27056669e-06j  5.00862231e-01+5.68970691e-19j\n",
       "  -5.57674373e-03+4.96701691e-01j  3.15789023e-04+2.02833796e-04j\n",
       "   7.61754488e-05-3.03390019e-04j  3.00021674e-04+7.89207096e-05j\n",
       "   1.70891544e-07-1.60435900e-07j]\n",
       " [-3.12832203e-04+4.99013110e-03j -4.99347685e-03-3.69366447e-04j\n",
       "  -2.22679775e-06+3.03087685e-06j -5.57674373e-03-4.96701691e-01j\n",
       "   4.97447504e-01+2.45095141e-18j  1.98412764e-04-3.16610889e-04j\n",
       "  -3.01717993e-04-7.21646466e-05j  7.56561077e-05-3.01321598e-04j\n",
       "  -1.61606121e-07-1.68338564e-07j]\n",
       " [-3.32056180e-06+1.80160517e-06j -1.75661572e-06-3.32552912e-06j\n",
       "  -1.17129861e-08-8.66407151e-10j  3.15789023e-04-2.02833796e-04j\n",
       "   1.98412764e-04+3.16610889e-04j  1.16684143e-06-5.33583058e-20j\n",
       "  -7.48357062e-08-2.22133326e-07j  2.21958771e-07-7.20327340e-08j\n",
       "   1.77463311e-10-7.06797246e-10j]\n",
       " [-5.56924983e-07-3.11089722e-06j  3.09125672e-06-5.17661122e-07j\n",
       "   9.08681604e-10-2.18692953e-09j  7.61754488e-05+3.03390019e-04j\n",
       "  -3.01717993e-04+7.21646466e-05j -7.48357062e-08+2.22133326e-07j\n",
       "   1.49670073e-06+2.95170802e-19j -1.66646952e-08+1.48426801e-06j\n",
       "   9.43656026e-10+6.06117755e-10j]\n",
       " [-3.07885480e-06+5.86936366e-07j -5.53128038e-07-3.08968807e-06j\n",
       "  -2.18711831e-09-8.80308347e-10j  3.00021674e-04-7.89207096e-05j\n",
       "   7.56561077e-05+3.01321598e-04j  2.21958771e-07+7.20327340e-08j\n",
       "  -1.66646952e-08-1.48426801e-06j  1.48649668e-06-2.02874876e-19j\n",
       "   5.92906613e-10-9.46111963e-10j]\n",
       " [-1.61095375e-09-1.73585456e-09j  1.74587512e-09-1.58440821e-09j\n",
       "  -1.29744889e-12-7.24734976e-12j  1.70891544e-07+1.60435900e-07j\n",
       "  -1.61606121e-07+1.68338564e-07j  1.77463311e-10+7.06797246e-10j\n",
       "   9.43656026e-10-6.06117755e-10j  5.92906613e-10+9.46111963e-10j\n",
       "   3.48681198e-12-4.81057811e-24j]]"
      ]
     },
     "execution_count": 25,
     "metadata": {},
     "output_type": "execute_result"
    }
   ],
   "source": [
    "make_pulse(1,12,1,basis(N**2,0)*basis(N**2,0).dag())[0][0]"
   ]
  },
  {
   "cell_type": "code",
   "execution_count": 26,
   "metadata": {},
   "outputs": [],
   "source": [
    "def func_(x, a, b, c):\n",
    "    return a*(b**x) + c"
   ]
  },
  {
   "cell_type": "code",
   "execution_count": 27,
   "metadata": {},
   "outputs": [],
   "source": [
    "depths = [1]#, 15, 20, 25, 30, 35, 40, 45, 55, 65]\n",
    "E = basis(N**2,0)*basis(N**2,0).dag()\n",
    "E0= basis(N**2,0)*basis(N**2,0).dag()"
   ]
  },
  {
   "cell_type": "code",
   "execution_count": 27,
   "metadata": {},
   "outputs": [
    {
     "name": "stdout",
     "output_type": "stream",
     "text": [
      "(0.9982441467294774+1.497933721505973e-17j)\n"
     ]
    }
   ],
   "source": [
    "E = basis(N**2,0)*basis(N**2,0).dag()\n",
    "E0= basis(N**2,0)*basis(N**2,0).dag()\n",
    "rb_survival_probs = []\n",
    "reps = 50\n",
    "DECSTR=1\n",
    "for d in depths:\n",
    "    rb_survival_p = 0\n",
    "    for repititions in range(reps):   \n",
    "        E = basis(N**2,0)*basis(N**2,0).dag()\n",
    "        seq_1=np.random.choice([0,1,2,3,4,5,6,7,8,9,10,11,12,13,14,15,16,17,18,19,20,21,22,23],d)\n",
    "        seq_2=np.random.choice([0,1,2,3,4,5,6,7,8,9,10,11,12,13,14,15,16,17,18,19,20,21,22,23],d)\n",
    "        IRB = Qobj(identity_matrix.full())\n",
    "        IRB_ideal = Qobj(identity_matrix.full())\n",
    "        Ucnot = Qobj(Total_Ucnot.full())\n",
    "        for i in range(len(seq_1)):\n",
    "            t = max(tim[seq_1[i]],tim[seq_2[i]])\n",
    "            MP = make_pulse(seq_1[i],0,DECSTR,E)#MAP(cl1[seq_1[i]] *E*(cl1[seq_1[i]] ).dag(),t)\n",
    "            E=MP[0][0]\n",
    "            IRB_ideal = MP[0][1]*IRB_ideal#cl1[seq_1[i]]  * IRB_ideal\n",
    "            \n",
    "        IRB_ideal_inverse = Qobj(np.linalg.inv(IRB_ideal.full()))\n",
    "        E = IRB_ideal_inverse *E*(IRB_ideal_inverse).dag()\n",
    "        #IRB =  IRB_ideal_inverse*IRB \n",
    "        rb_survival_p += (E * E0).tr()\n",
    "    rb_survival_probs.append(rb_survival_p/reps)\n",
    "    print(rb_survival_p/reps)"
   ]
  },
  {
   "cell_type": "code",
   "execution_count": 28,
   "metadata": {},
   "outputs": [],
   "source": [
    "# depthss = np.linspace(1, 65, 1000)\n",
    "# rb_popt, rb_pcov = curve_fit(func_, depths, np.real(rb_survival_probs),  maxfev=5000)\n",
    "# a_rb, b_rb, c_rb = rb_popt\n",
    "# rb_probs_ = func_(depthss, a_rb, b_rb, c_rb)\n",
    "# print(\"RB\", a_rb, b_rb, c_rb)"
   ]
  },
  {
   "cell_type": "code",
   "execution_count": 29,
   "metadata": {},
   "outputs": [],
   "source": [
    "def CNP(st,t):\n",
    "    for i in range(len(cnot_control_1)):\n",
    "        u1=Qobj(expm(-0.001*1j*(H_d.full()+cnot_control_1[i]*H_c[0].full()+cnot_control_2[i]*H_c[1].full())))\n",
    "        st=MAP(u1*st*u1.dag(),0.001*t)\n",
    "    return(st)"
   ]
  },
  {
   "cell_type": "code",
   "execution_count": 33,
   "metadata": {},
   "outputs": [
    {
     "name": "stdout",
     "output_type": "stream",
     "text": [
      "(0.9814420494747016-6.208548215466681e-17j)\n"
     ]
    }
   ],
   "source": [
    "E = basis(N**2,0)*basis(N**2,0).dag()\n",
    "E0= basis(N**2,0)*basis(N**2,0).dag()\n",
    "survival_probs = []\n",
    "DECSTR=1\n",
    "reps = 50\n",
    "for d in depths:\n",
    "    survival_p = 0\n",
    "    for repititions in range(reps):   \n",
    "        E = basis(N**2,0)*basis(N**2,0).dag()\n",
    "        seq_1=np.random.choice([0,1,2,3,4,5,6,7,8,9,10,11,12,13,14,15,16,17,18,19,20,21,22,23],d)\n",
    "        seq_2=np.random.choice([0,1,2,3,4,5,6,7,8,9,10,11,12,13,14,15,16,17,18,19,20,21,22,23],d)\n",
    "        IRB = Qobj(identity_matrix.full())\n",
    "        IRB_ideal = Qobj(identity_matrix.full())\n",
    "        Ucnot = Qobj(Total_Ucnot.full())\n",
    "        for i in range(len(seq_1)):\n",
    "            #t = max(tim[seq_1[i]],tim[seq_2[i]])\n",
    "            MP = make_pulse(seq_1[i],seq_2[i],DECSTR,E)\n",
    "            E = CNP(MP[0][0],DECSTR)#MAP( Ucnot *MP[0][0]*Ucnot.dag(),0.250)\n",
    "            #IRB = seq_1[i] * seq_2[i] * Ucnot * IRB\n",
    "            IRB_ideal = CNOT *MP[0][1] *  IRB_ideal\n",
    "            \n",
    "        IRB_ideal_inverse = Qobj(np.linalg.inv(IRB_ideal.full()))\n",
    "        E = MAP(IRB_ideal_inverse *E*(IRB_ideal_inverse).dag(),0.28*0)\n",
    "        #IRB =  IRB_ideal_inverse*IRB \n",
    "        survival_p += (E * E0).tr()\n",
    "    survival_probs.append(survival_p/reps)\n",
    "    print(survival_p/reps)"
   ]
  },
  {
   "cell_type": "code",
   "execution_count": null,
   "metadata": {},
   "outputs": [],
   "source": []
  },
  {
   "cell_type": "code",
   "execution_count": 28,
   "metadata": {},
   "outputs": [],
   "source": [
    "# popt, pcov = curve_fit(func_, depths, np.real(survival_probs),  maxfev=5000)\n",
    "# a, b, c = popt\n",
    "# probs_ = func_(depthss, a, b, c)"
   ]
  },
  {
   "cell_type": "code",
   "execution_count": 29,
   "metadata": {},
   "outputs": [
    {
     "name": "stdout",
     "output_type": "stream",
     "text": [
      "IRB 0.5530675143825013 0.9590707387536473 0.4499396069148105\n",
      "RB 0.5835141970829227 0.9959323012162384 0.41673488399606684\n"
     ]
    },
    {
     "data": {
      "text/plain": [
       "<matplotlib.legend.Legend at 0x1c922350450>"
      ]
     },
     "execution_count": 29,
     "metadata": {},
     "output_type": "execute_result"
    },
    {
     "data": {
      "image/png": "[encoded data removed]",
      "text/plain": [
       "<Figure size 640x480 with 1 Axes>"
      ]
     },
     "metadata": {},
     "output_type": "display_data"
    }
   ],
   "source": [
    "\n",
    "plt.plot(depths, 500*(np.real(survival_probs)), label='IRB')\n",
    "plt.plot(depthss, 500*(probs_), 'b--', linewidth=1.0, label='IRB')\n",
    "plt.plot(depths, 500*(np.real(rb_survival_probs)), label='RB')\n",
    "plt.plot(depthss, 500*(rb_probs_), 'k--', linewidth=1.0, label='RB')\n",
    "print(\"IRB\", a, b, c)\n",
    "print(\"RB\", a_rb, b_rb, c_rb)\n",
    "plt.legend()"
   ]
  },
  {
   "cell_type": "code",
   "execution_count": 349,
   "metadata": {},
   "outputs": [
    {
     "data": {
      "text/plain": [
       "0.9792598836421076"
      ]
     },
     "execution_count": 349,
     "metadata": {},
     "output_type": "execute_result"
    }
   ],
   "source": [
    "p = b_rb\n",
    "pC_ = b\n",
    "dim = N**2\n",
    "r_ext = (dim - 1)*(1 - pC_/p)/dim\n",
    "1 - r_ext ##average gate fidelity."
   ]
  },
  {
   "cell_type": "code",
   "execution_count": 28,
   "metadata": {},
   "outputs": [
    {
     "data": {
      "text/plain": [
       "[<matplotlib.lines.Line2D at 0x1cfb63b2610>]"
      ]
     },
     "execution_count": 28,
     "metadata": {},
     "output_type": "execute_result"
    },
    {
     "data": {
      "image/png": "[encoded data removed]",
      "text/plain": [
       "<Figure size 640x480 with 1 Axes>"
      ]
     },
     "metadata": {},
     "output_type": "display_data"
    }
   ],
   "source": [
    "plt.plot(cnot_control_1)\n",
    "plt.plot(cnot_control_2)"
   ]
  },
  {
   "cell_type": "code",
   "execution_count": 847,
   "metadata": {},
   "outputs": [
    {
     "name": "stdout",
     "output_type": "stream",
     "text": [
      "0.6797676334619815\n"
     ]
    }
   ],
   "source": [
    "e1 = basis(N**2,0)\n",
    "e2 = basis(N**2,1)\n",
    "e3 = basis(N**2,N)\n",
    "e4 = basis(N**2,N+1)\n",
    "Total_Ucnot = Qobj(Total_Ucnot.full())\n",
    "print(np.abs((Total_Ucnot*CNOT.dag()).tr())/4)\n",
    "# CNOT_eff_ideal = (e1*e1.dag() + e2*e2.dag() + e3*e3.dag() + e4*e4.dag())*CNOT*(e1*e1.dag() + e2*e2.dag() + e3*e3.dag() + e4*e4.dag())\n",
    "# CNOT_eff = (e1*e1.dag() + e2*e2.dag() + e3*e3.dag() + e4*e4.dag())*Ucnot*(e1*e1.dag() + e2*e2.dag() + e3*e3.dag() + e4*e4.dag())\n",
    "# np.abs(e1.dag()*CNOT_eff*CNOT_eff_ideal.dag()*e1)"
   ]
  },
  {
   "cell_type": "code",
   "execution_count": 350,
   "metadata": {},
   "outputs": [],
   "source": [
    "b  = qutip.Bloch()\n",
    "\n",
    "#Vizualising Blch sphere\n",
    "#b.make_sphere()\n",
    "b.view = [90,0]\n",
    "b.clear()"
   ]
  },
  {
   "cell_type": "code",
   "execution_count": 351,
   "metadata": {},
   "outputs": [
    {
     "data": {
      "image/png": "[encoded data removed]",
      "text/plain": [
       "<Figure size 500x500 with 1 Axes>"
      ]
     },
     "metadata": {},
     "output_type": "display_data"
    }
   ],
   "source": [
    "\n",
    "# b.make_sphere()\n",
    "def plot(rho, num):\n",
    "    eigenvalues, eigenvectors = np.linalg.eig(rho.full())\n",
    "    idx = eigenvalues.argsort()[::-1]  # Sort by eigenvalue in descending order\n",
    "    eigenvectors = eigenvectors[:, idx]  # Sort eigenvectors accordingly\n",
    "    dominant_eigenvector = eigenvectors[:, 0]\n",
    "    state = Qobj(dominant_eigenvector / np.linalg.norm(dominant_eigenvector))\n",
    "\n",
    "    bloch_vector = [\n",
    "        expect(sigmax(), state),\n",
    "        expect(sigmay(), state),\n",
    "        expect(sigmaz(), state)\n",
    "    ]\n",
    "\n",
    "    if(num==0):\n",
    "        state=state.full()\n",
    "        b.add_points(np.array(bloch_vector)[:, np.newaxis], 'm','c')\n",
    "        b.render()\n",
    "    #\n",
    "    else:\n",
    "        b.add_states(state)\n",
    "        b.render()\n",
    "\n",
    "# b.make_sphere()\n",
    "rho = Qobj(np.array([[-9,10],[-12,8]]))#this is the input\n",
    "#plot(rho,0)# if second parameter = 0, it will plot a point, if 1 it will plot a vector\n",
    "b.show()"
   ]
  },
  {
   "cell_type": "code",
   "execution_count": 362,
   "metadata": {},
   "outputs": [
    {
     "data": {
      "text/latex": [
       "Quantum object: dims=[[2], [2]], shape=(2, 2), type='oper', dtype=Dense, isherm=True$$\\left(\\begin{array}{cc}5.609\\times10^{ -4 } & (0.002-0.006j)\\\\(0.002+0.006j) & 0.999\\end{array}\\right)$$"
      ],
      "text/plain": [
       "Quantum object: dims=[[2], [2]], shape=(2, 2), type='oper', dtype=Dense, isherm=True\n",
       "Qobj data =\n",
       "[[5.60887939e-04+0.j        2.42653623e-03-0.0063179j]\n",
       " [2.42653623e-03+0.0063179j 9.98589275e-01+0.j       ]]"
      ]
     },
     "execution_count": 362,
     "metadata": {},
     "output_type": "execute_result"
    }
   ],
   "source": [
    "Qobj(((Qobj(Ucnot.full(),dims=[[3,3],[3,3]])*tensor(basis(N, 1),basis(N, 1))).ptrace(0)).full()[:2,:2])"
   ]
  },
  {
   "cell_type": "code",
   "execution_count": 363,
   "metadata": {},
   "outputs": [
    {
     "data": {
      "text/latex": [
       "Quantum object: dims=[[2], [2]], shape=(2, 2), type='oper', dtype=Dense, isherm=True$$\\left(\\begin{array}{cc}0.999 & (-0.002-0.009j)\\\\(-0.002+0.009j) & 4.013\\times10^{ -4 }\\end{array}\\right)$$"
      ],
      "text/plain": [
       "Quantum object: dims=[[2], [2]], shape=(2, 2), type='oper', dtype=Dense, isherm=True\n",
       "Qobj data =\n",
       "[[ 9.99286686e-01+0.j         -1.75390329e-03-0.00856323j]\n",
       " [-1.75390329e-03+0.00856323j  4.01346441e-04+0.j        ]]"
      ]
     },
     "execution_count": 363,
     "metadata": {},
     "output_type": "execute_result"
    }
   ],
   "source": [
    "Qobj(((Qobj(Ucnot.full(),dims=[[3,3],[3,3]])*tensor(basis(N, 1),basis(N, 1))).ptrace(1)).full()[:2,:2])"
   ]
  },
  {
   "cell_type": "code",
   "execution_count": null,
   "metadata": {},
   "outputs": [],
   "source": []
  }
 ],
 "metadata": {
  "kernelspec": {
   "display_name": "Python 3 (ipykernel)",
   "language": "python",
   "name": "python3"
  },
  "language_info": {
   "codemirror_mode": {
    "name": "ipython",
    "version": 3
   },
   "file_extension": ".py",
   "mimetype": "text/x-python",
   "name": "python",
   "nbconvert_exporter": "python",
   "pygments_lexer": "ipython3",
   "version": "3.11.7"
  }
 },
 "nbformat": 4,
 "nbformat_minor": 4
}
